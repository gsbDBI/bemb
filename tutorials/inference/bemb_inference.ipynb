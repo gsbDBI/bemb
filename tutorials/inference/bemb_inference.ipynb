{
 "cells": [
  {
   "cell_type": "markdown",
   "metadata": {},
   "source": [
    "# Inference using the BEMB model\n",
    "\n",
    "This tutorial covers methods (e.g., `predict_proba()` and `forward()`) for post-estimation inference.\n",
    "\n",
    "Author: Tianyu Du\n",
    "\n",
    "Date: Aug. 8, 2022"
   ]
  },
  {
   "cell_type": "code",
   "execution_count": 1,
   "metadata": {},
   "outputs": [
    {
     "name": "stderr",
     "output_type": "stream",
     "text": [
      "/Users/tianyudu/miniforge3/envs/ml/lib/python3.9/site-packages/scipy/__init__.py:146: UserWarning: A NumPy version >=1.16.5 and <1.23.0 is required for this version of SciPy (detected version 1.23.1\n",
      "  warnings.warn(f\"A NumPy version >={np_minversion} and <{np_maxversion}\"\n"
     ]
    }
   ],
   "source": [
    "import itertools\n",
    "import sys\n",
    "import unittest\n",
    "from typing import Optional, Dict\n",
    "\n",
    "import numpy as np\n",
    "import pandas as pd\n",
    "import torch\n",
    "from bemb.model import BEMBFlex\n",
    "\n",
    "# we use the dataset simulation method from unit tests.\n",
    "sys.path.append('../../tests')\n",
    "import matplotlib.pyplot as plt\n",
    "import numpy as np\n",
    "import pandas as pd\n",
    "import seaborn as sns\n",
    "import simulate_choice_dataset\n",
    "import torch\n",
    "from bemb.model import LitBEMBFlex\n",
    "from bemb.utils.run_helper import run\n",
    "from torch_choice.data import ChoiceDataset\n"
   ]
  },
  {
   "cell_type": "markdown",
   "metadata": {},
   "source": [
    "## Generate Simulated Datasets"
   ]
  },
  {
   "cell_type": "code",
   "execution_count": 2,
   "metadata": {},
   "outputs": [
    {
     "name": "stdout",
     "output_type": "stream",
     "text": [
      "No `session_index` is provided, assume each choice instance is in its own session.\n"
     ]
    }
   ],
   "source": [
    "num_users = 1500\n",
    "num_items = 50\n",
    "data_size = 10000\n",
    "num_seeds = 32\n",
    "\n",
    "# train, validation and test sets.\n",
    "dataset_list = simulate_choice_dataset.simulate_dataset(num_users=num_users, num_items=num_items, data_size=data_size)"
   ]
  },
  {
   "cell_type": "code",
   "execution_count": 3,
   "metadata": {},
   "outputs": [
    {
     "name": "stderr",
     "output_type": "stream",
     "text": [
      "GPU available: False, used: False\n",
      "TPU available: False, using: 0 TPU cores\n",
      "IPU available: False, using: 0 IPUs\n",
      "HPU available: False, using: 0 HPUs\n",
      "\n",
      "  | Name  | Type     | Params\n",
      "-----------------------------------\n",
      "0 | model | BEMBFlex | 33.0 K\n",
      "-----------------------------------\n",
      "33.0 K    Trainable params\n",
      "0         Non-trainable params\n",
      "33.0 K    Total params\n",
      "0.132     Total estimated model params size (MB)\n"
     ]
    },
    {
     "name": "stdout",
     "output_type": "stream",
     "text": [
      "BEMB: utility formula parsed:\n",
      "[{'coefficient': ['theta_user', 'alpha_item'], 'observable': None}]\n",
      "==================== model received ====================\n",
      "Bayesian EMBedding Model with U[user, item, session] = theta_user * alpha_item\n",
      "Total number of parameters: 33000.\n",
      "With the following coefficients:\n",
      "ModuleDict(\n",
      "  (theta_user): BayesianCoefficient(num_classes=1500, dimension=10, prior=N(H*X_obs(H shape=torch.Size([10, 50]), X_obs shape=50), Ix1.0))\n",
      "  (alpha_item): BayesianCoefficient(num_classes=50, dimension=10, prior=N(H*X_obs(H shape=torch.Size([10, 50]), X_obs shape=50), Ix1.0))\n",
      ")\n",
      "[]\n",
      "==================== data set received ====================\n",
      "[Training dataset] ChoiceDataset(label=[], item_index=[8000], user_index=[8000], session_index=[8000], item_availability=[], user_obs=[1500, 50], item_obs=[50, 50], device=cpu)\n",
      "[Validation dataset] ChoiceDataset(label=[], item_index=[1000], user_index=[1000], session_index=[1000], item_availability=[], user_obs=[1500, 50], item_obs=[50, 50], device=cpu)\n",
      "[Testing dataset] ChoiceDataset(label=[], item_index=[1000], user_index=[1000], session_index=[1000], item_availability=[], user_obs=[1500, 50], item_obs=[50, 50], device=cpu)\n",
      "==================== train the model ====================\n",
      "                                                                            "
     ]
    },
    {
     "name": "stderr",
     "output_type": "stream",
     "text": [
      "/Users/tianyudu/miniforge3/envs/ml/lib/python3.9/site-packages/pytorch_lightning/trainer/connectors/data_connector.py:240: PossibleUserWarning: The dataloader, val_dataloader 0, does not have many workers which may be a bottleneck. Consider increasing the value of the `num_workers` argument` (try 10 which is the number of cpus on this machine) in the `DataLoader` init to improve performance.\n",
      "  rank_zero_warn(\n",
      "/Users/tianyudu/miniforge3/envs/ml/lib/python3.9/site-packages/pytorch_lightning/trainer/connectors/data_connector.py:240: PossibleUserWarning: The dataloader, train_dataloader, does not have many workers which may be a bottleneck. Consider increasing the value of the `num_workers` argument` (try 10 which is the number of cpus on this machine) in the `DataLoader` init to improve performance.\n",
      "  rank_zero_warn(\n"
     ]
    },
    {
     "name": "stdout",
     "output_type": "stream",
     "text": [
      "Epoch 9: 100%|██████████| 23/23 [00:01<00:00, 22.19it/s, loss=1.75e+04, v_num=4, val_acc=0.448, val_ll=-3.00]"
     ]
    },
    {
     "name": "stderr",
     "output_type": "stream",
     "text": [
      "/Users/tianyudu/miniforge3/envs/ml/lib/python3.9/site-packages/pytorch_lightning/trainer/connectors/data_connector.py:240: PossibleUserWarning: The dataloader, test_dataloader 0, does not have many workers which may be a bottleneck. Consider increasing the value of the `num_workers` argument` (try 10 which is the number of cpus on this machine) in the `DataLoader` init to improve performance.\n",
      "  rank_zero_warn(\n"
     ]
    },
    {
     "name": "stdout",
     "output_type": "stream",
     "text": [
      "\n",
      "time taken: 11.031723976135254\n",
      "==================== test performance ====================\n",
      "Testing DataLoader 0: 100%|██████████| 25/25 [00:00<00:00, 293.97it/s]\n",
      "────────────────────────────────────────────────────────────────────────────────────────────────────────────────────────\n",
      "       Test metric             DataLoader 0\n",
      "────────────────────────────────────────────────────────────────────────────────────────────────────────────────────────\n",
      "        test_acc                   0.424\n",
      "         test_ll            -3.054881313353777\n",
      "────────────────────────────────────────────────────────────────────────────────────────────────────────────────────────\n"
     ]
    }
   ],
   "source": [
    "obs2prior = True\n",
    "LATENT_DIM = 10  # the dimension of alpha and theta.\n",
    "\n",
    "bemb = LitBEMBFlex(\n",
    "    learning_rate=0.03,  # set the learning rate, feel free to play with different levels.\n",
    "    pred_item=True,  # let the model predict item_index, don't change this one.\n",
    "    num_seeds=32,  # number of Monte Carlo samples for estimating the ELBO.\n",
    "    utility_formula='theta_user * alpha_item',  # the utility formula.\n",
    "    num_users=num_users,\n",
    "    num_items=num_items,\n",
    "    num_user_obs=dataset_list[0].user_obs.shape[1],\n",
    "    num_item_obs=dataset_list[0].item_obs.shape[1],\n",
    "    # whether to turn on obs2prior for each parameter.\n",
    "    obs2prior_dict={'theta_user': obs2prior, 'alpha_item': obs2prior},\n",
    "    # the dimension of latents, since the utility is an inner product of theta and alpha, they should have\n",
    "    # the same dimension.\n",
    "    coef_dim_dict={'theta_user': LATENT_DIM, 'alpha_item': LATENT_DIM}\n",
    ")\n",
    "\n",
    "# use GPU if available.\n",
    "if torch.cuda.is_available():\n",
    "    bemb = bemb.to('cuda')\n",
    "    \n",
    "# use the provided run helper to train the model.\n",
    "# we set batch size to be 5% of the data size, and train the model for 10 epochs.\n",
    "# there would be 20*10=200 gradient update steps in total.\n",
    "bemb = bemb.fit_model(dataset_list, batch_size=len(dataset_list[0]) // 20, num_epochs=10, num_workers=0)"
   ]
  },
  {
   "cell_type": "markdown",
   "metadata": {},
   "source": [
    "## The `forward()` Function\n",
    "\n",
    "The `LitBEMBFlex` object is a class wrapping the actual model with training loops, to access the core model encompassed, we use `bemb.model`."
   ]
  },
  {
   "cell_type": "code",
   "execution_count": 4,
   "metadata": {},
   "outputs": [
    {
     "data": {
      "text/plain": [
       "BEMBFlex(\n",
       "  (coef_dict): ModuleDict(\n",
       "    (theta_user): BayesianCoefficient(num_classes=1500, dimension=10, prior=N(H*X_obs(H shape=torch.Size([10, 50]), X_obs shape=50), Ix1.0))\n",
       "    (alpha_item): BayesianCoefficient(num_classes=50, dimension=10, prior=N(H*X_obs(H shape=torch.Size([10, 50]), X_obs shape=50), Ix1.0))\n",
       "  )\n",
       ")"
      ]
     },
     "execution_count": 4,
     "metadata": {},
     "output_type": "execute_result"
    }
   ],
   "source": [
    "bemb.model"
   ]
  },
  {
   "cell_type": "code",
   "execution_count": 5,
   "metadata": {},
   "outputs": [],
   "source": [
    "def forward(self, batch: ChoiceDataset,\n",
    "            return_type: str,\n",
    "            return_scope: str,\n",
    "            deterministic: bool = True,\n",
    "            sample_dict: Optional[Dict[str, torch.Tensor]] = None,\n",
    "            num_seeds: Optional[int] = None\n",
    "            ) -> torch.Tensor:\n",
    "    \"\"\"A combined method for inference with the model.\n",
    "\n",
    "    Args:\n",
    "        batch (ChoiceDataset): batch data containing choice information.\n",
    "        return_type (str): either 'log_prob' or 'utility'.\n",
    "            'log_prob': return the log-probability (by within-category log-softmax) for items\n",
    "            'utility': return the utility value of items.\n",
    "        return_scope (str): either 'item_index' or 'all_items'.\n",
    "            'item_index': for each observation i, return log-prob/utility for the chosen item batch.item_index[i] only.\n",
    "            'all_items': for each observation i, return log-prob/utility for all items.\n",
    "        deterministic (bool, optional):\n",
    "            True: expectations of parameter variational distributions are used for inference.\n",
    "            False: the user needs to supply a dictionary of sampled parameters for inference.\n",
    "            Defaults to True.\n",
    "        sample_dict (Optional[Dict[str, torch.Tensor]], optional): sampled parameters for inference task.\n",
    "            This is not needed when `deterministic` is True.\n",
    "            When `deterministic` is False, the user can supply a `sample_dict`. If `sample_dict` is not provided,\n",
    "            this method will create `num_seeds` samples.\n",
    "            Defaults to None.\n",
    "        num_seeds (Optional[int]): the number of random samples of parameters to construct. This is only required\n",
    "            if `deterministic` is False (i.e., stochastic mode) and `sample_dict` is not provided.\n",
    "            Defaults to None.\n",
    "    Returns:\n",
    "        torch.Tensor: a tensor of log-probabilities or utilities, depending on `return_type`.\n",
    "            The shape of the returned tensor depends on `return_scope` and `deterministic`.\n",
    "            -------------------------------------------------------------------------\n",
    "            | `return_scope` | `deterministic` |         Output shape               |\n",
    "            -------------------------------------------------------------------------\n",
    "            |   'item_index` |      True       | (len(batch),)                      |\n",
    "            -------------------------------------------------------------------------\n",
    "            |   'all_items'  |      True       | (len(batch), num_items)            |\n",
    "            -------------------------------------------------------------------------\n",
    "            |   'item_index' |      False      | (num_seeds, len(batch))            |\n",
    "            -------------------------------------------------------------------------\n",
    "            |   'all_items'  |      False      | (num_seeds, len(batch), num_items) |\n",
    "            -------------------------------------------------------------------------\n",
    "    \"\"\"\n",
    "    pass"
   ]
  },
  {
   "cell_type": "markdown",
   "metadata": {},
   "source": [
    "With our simple model, for the $k$-th purchasing record (observation) in the dataset, suppose `dataset.user_index[k] = ` $u(k)$ and `dataset.user_index[k] = ` $i(k)$.\n",
    "Suppose there are $K$ such observations in the dataset.\n",
    "\n",
    "The model predicts $U_{u(k) \\ell} = \\theta_{u(k)}^\\top \\alpha_\\ell$ for every possible item $\\ell$ including the chosen $i(k)$. This is called user $u$'s *utility* from buying item $\\ell$.\n",
    "\n",
    "### Case 1: with `pred_item == True`\n",
    "In this case, one wishes to know what's the utility/probability for items.\n",
    "\n",
    "### Case 2: with `pred_item == False`\n",
    "We have a label $y_k \\in \\{0, 1\\}$ for each observation $k$, the model can either output the (1) raw utility or (2) the predicted $\\hat{P}(y_k = 1)$ defined as $\\sigma(U)$, where $\\sigma(x) = \\frac{1}{1 + \\exp(-x)}$.\n",
    "\n",
    "**Notes**\n",
    "1. the return shape does not depend on the `return_type`, please compare exact expressions to see the difference.\n",
    "2. the `pred_item` variable was specified while initializing the model (see above), `return_scope` and `return_type` are supplied while calling `forward()`.\n",
    "\n",
    "| `pred_item`| `return_scope` | `return_type`  | Output Shape | Output Tensor|\n",
    "| :---: | :----: | :---: | :---: | :---: |\n",
    "| `True`  | `item_index`    |  `utility`  | `(len(batch),)`| $\\left[\\theta_{u(1)}^\\top \\alpha_{i(1)}, \\theta_{u(2)}^\\top \\alpha_{i(2)}, \\dots, \\theta_{u(K)}^\\top \\alpha_{i(K)}\\right]$|\n",
    "| `True`  | `item_index`    |  `log_prob`  | `(len(batch),)`| $\\left[\\log\\left(\\frac{\\exp(\\theta_{u(1)}^\\top \\alpha_{i(1)})}{\\sum_{\\ell \\in \\text{category of } i(1)} \\exp(\\theta_{u(1)}^\\top \\alpha_{\\ell}) }\\right), \\log\\left(\\frac{\\exp(\\theta_{u(2)}^\\top \\alpha_{i(2)})}{\\sum_{\\ell \\in \\text{category of } i(2)} \\exp(\\theta_{u(2)}^\\top \\alpha_{\\ell}) }\\right), \\dots, \\log\\left(\\frac{\\exp(\\theta_{u(K)}^\\top \\alpha_{i(K)})}{\\sum_{\\ell \\in \\text{category of } i(K)} \\exp(\\theta_{u(K)}^\\top \\alpha_{\\ell}) }\\right)\\right]$|\n",
    "| `True`  | `all_items`    |  `utility`  | `(len(batch), num_items)`| $\\begin{bmatrix} \\theta_{u(1)}^\\top \\alpha_{1}, \\theta_{u(1)}^\\top \\alpha_{2}, \\dots, \\theta_{u(1)}^\\top \\alpha_{num\\_items} \\\\ \\theta_{u(2)}^\\top \\alpha_{1}, \\theta_{u(2)}^\\top \\alpha_{2}, \\dots, \\theta_{u(2)}^\\top \\alpha_{num\\_items} \\\\ \\vdots \\\\ \\theta_{u(K)}^\\top \\alpha_{1}, \\theta_{u(K)}^\\top \\alpha_{2}, \\dots, \\theta_{u(K)}^\\top \\alpha_{num\\_items} \\end{bmatrix}$|\n",
    "| `True`  | `all_items`    |  `log_prob`  | `(len(batch), num_items)`| $\\begin{bmatrix} \\log\\left(\\frac{\\exp(\\theta_{u(1)}^\\top \\alpha_{1})}{\\sum_{\\ell \\in \\text{category of } 1} \\exp(\\theta_{u(1)}^\\top \\alpha_{\\ell}) }\\right), \\log\\left(\\frac{\\exp(\\theta_{u(1)}^\\top \\alpha_{2})}{\\sum_{\\ell \\in \\text{category of } 2} \\exp(\\theta_{u(1)}^\\top \\alpha_{\\ell}) }\\right), \\dots, \\log\\left(\\frac{\\exp(\\theta_{u(1)}^\\top \\alpha_{num\\_items})}{\\sum_{\\ell \\in \\text{category of } num\\_items} \\exp(\\theta_{u(1)}^\\top \\alpha_{\\ell}) }\\right) \\\\ \\log\\left(\\frac{\\exp(\\theta_{u(2)}^\\top \\alpha_{1})}{\\sum_{\\ell \\in \\text{category of } 1} \\exp(\\theta_{u(2)}^\\top \\alpha_{\\ell}) }\\right), \\log\\left(\\frac{\\exp(\\theta_{u(2)}^\\top \\alpha_{2})}{\\sum_{\\ell \\in \\text{category of } 2} \\exp(\\theta_{u(2)}^\\top \\alpha_{\\ell}) }\\right), \\dots, \\log\\left(\\frac{\\exp(\\theta_{u(2)}^\\top \\alpha_{num\\_items})}{\\sum_{\\ell \\in \\text{category of } num\\_items} \\exp(\\theta_{u(2)}^\\top \\alpha_{\\ell}) }\\right) \\\\ \\vdots \\\\ \\log\\left(\\frac{\\exp(\\theta_{u(K)}^\\top \\alpha_1)}{\\sum_{\\ell \\in \\text{category of } 1} \\exp(\\theta_{u(K)}^\\top \\alpha_{\\ell}) }\\right), \\log\\left(\\frac{\\exp(\\theta_{u(K)}^\\top \\alpha_2)}{\\sum_{\\ell \\in \\text{category of } 2} \\exp(\\theta_{u(K)}^\\top \\alpha_{\\ell}) }\\right), \\dots, \\log\\left(\\frac{\\exp(\\theta_{u(K)}^\\top \\alpha_{num\\_items})}{\\sum_{\\ell \\in \\text{category of } num\\_items} \\exp(\\theta_{u(K)}^\\top \\alpha_{\\ell}) }\\right) \\end{bmatrix}$|\n",
    "| `False`  | `item_index`    |  `utility`  | `(len(batch),)`| $\\left[\\theta_{u(1)}^\\top \\alpha_{i(1)}, \\theta_{u(2)}^\\top \\alpha_{i(2)}, \\dots, \\theta_{u(K)}^\\top \\alpha_{i(K)}\\right]$|\n",
    "| `False`  | `item_index`    |  `log_prob`  | `(len(batch),)`| $\\left[\\log\\sigma\\left(\\theta_{u(1)}^\\top \\alpha_{i(1)}\\right), \\log\\sigma\\left(\\theta_{u(2)}^\\top \\alpha_{i(2)}\\right), \\dots, \\log\\sigma\\left(\\theta_{u(K)}^\\top \\alpha_{i(K)}\\right)\\right]$|\n",
    "| `False`  | `all_items`    |  `utility`  | `(len(batch), num_items)`| $\\begin{bmatrix} \\theta_{u(1)}^\\top \\alpha_{1}, \\theta_{u(1)}^\\top \\alpha_{2}, \\dots, \\theta_{u(1)}^\\top \\alpha_{num\\_items} \\\\ \\theta_{u(2)}^\\top \\alpha_{1}, \\theta_{u(2)}^\\top \\alpha_{2}, \\dots, \\theta_{u(2)}^\\top \\alpha_{num\\_items} \\\\ \\vdots \\\\ \\theta_{u(K)}^\\top \\alpha_{1}, \\theta_{u(K)}^\\top \\alpha_{2}, \\dots, \\theta_{u(K)}^\\top \\alpha_{num\\_items} \\end{bmatrix}$|\n",
    "| `False`  | `all_items`    |  `log_prob`  | `(len(batch), num_items)`| $\\begin{bmatrix} \\log\\sigma\\left(\\theta_{u(1)}^\\top \\alpha_{1}\\right), \\log\\sigma\\left(\\theta_{u(1)}^\\top \\alpha_{2}\\right), \\dots, \\log\\sigma\\left(\\theta_{u(1)}^\\top \\alpha_{num\\_items}\\right) \\\\ \\log\\sigma\\left(\\theta_{u(2)}^\\top \\alpha_{1}\\right), \\log\\sigma\\left(\\theta_{u(2)}^\\top \\alpha_{2})\\right), \\dots, \\log\\sigma\\left(\\theta_{u(2)}^\\top \\alpha_{num\\_items}\\right) \\\\ \\vdots \\\\ \\log\\sigma\\left(\\theta_{u(K)}^\\top \\alpha_{1}\\right), \\log\\sigma\\left(\\theta_{u(K)}^\\top \\alpha_{2}\\right), \\dots, \\log\\sigma\\left(\\theta_{u(K)}^\\top \\alpha_{num\\_items}\\right) \\end{bmatrix}$|"
   ]
  },
  {
   "cell_type": "markdown",
   "metadata": {},
   "source": [
    "### The `deterministic` Option\n",
    "By default, the `forward()` function has keyword argument `deterministic = True`. In this case, the model uses the means of fitted variational distributions of $\\theta$ and $\\alpha$ to compute utilities and log-probabilities.\n",
    "\n",
    "One can specify `forward(deterministic=False, num_seeds=<XXX>)`, the model will firstly sample `num_seeds` copies of $\\theta$ and $\\alpha$ from their variational distributions. For each copy, the model calculated utility/log-probability as described above.\n",
    "\n",
    "Therefore, with the same `pred_item`, `return_scope`, and `return_type`, the returned tensor has shape `(num_seeds, <the shape described in the table above>)`. For example, for a model initialized with `pred_item=False`,\n",
    "\n",
    "* `forward(batch, return_scope='all_items', return_type='log_prob', deterministic=True)` returns shape `(len(batch), num_items)` as mentioned above.\n",
    "* However, `forward(batch, return_scope='all_items', return_type='log_prob', deterministic=False, num_seeds=32)` returns shape `(32, len(batch), num_items)`."
   ]
  },
  {
   "cell_type": "markdown",
   "metadata": {},
   "source": [
    "## Syntax Sugar: the `predict_proba()` Function\n",
    "The `predict_proba()` Function mimics the method with the same name in scikit-learn library.\n",
    "\n",
    "**Note**: to avoid over-flow or under-flow issues, please use the `forward()` function, which provides log-probabilities whenever possible."
   ]
  },
  {
   "cell_type": "code",
   "execution_count": 6,
   "metadata": {},
   "outputs": [],
   "source": [
    "@torch.no_grad()\n",
    "def predict_proba(self, batch: ChoiceDataset) -> torch.Tensor:\n",
    "    \"\"\"\n",
    "    Draw prediction on a given batch of dataset.\n",
    "\n",
    "    Args:\n",
    "    batch (ChoiceDataset): the dataset to draw inference on.\n",
    "\n",
    "    Returns:\n",
    "    torch.Tensor: the predicted probabilities for each class, the behavior varies by self.pred_item.\n",
    "    (1: pred_item == True) While predicting items, the return tensor has shape (len(batch), num_items), out[i, j] is the predicted probability for choosing item j AMONG ALL ITEMS IN ITS CATEGORY in observation i. Please note that since probabilities are computed from within-category normalization, hence out.sum(dim=0) can be greater than 1 if there are multiple categories.\n",
    "    (2: pred_item == False) While predicting external labels for each observations, out[i, 0] is the predicted probability for label == 0 on the i-th observation, out[i, 1] is the predicted probability for label == 1 on the i-th observation. Generally, out[i, 0] + out[i, 1] = 1.0. However, this could be false if under-flowing/over-flowing issue is encountered.\n",
    "    We highly recommend users to use the forward function to get the log-prob instead.\n",
    "    \"\"\"\n",
    "    pass"
   ]
  }
 ],
 "metadata": {
  "kernelspec": {
   "display_name": "Python 3.9.7 ('ml')",
   "language": "python",
   "name": "python3"
  },
  "language_info": {
   "codemirror_mode": {
    "name": "ipython",
    "version": 3
   },
   "file_extension": ".py",
   "mimetype": "text/x-python",
   "name": "python",
   "nbconvert_exporter": "python",
   "pygments_lexer": "ipython3",
   "version": "3.9.7"
  },
  "orig_nbformat": 4,
  "vscode": {
   "interpreter": {
    "hash": "5859d33511df864b0b7226a715510a0165ef032ed4b83eb4ae2c092f0788759c"
   }
  }
 },
 "nbformat": 4,
 "nbformat_minor": 2
}
