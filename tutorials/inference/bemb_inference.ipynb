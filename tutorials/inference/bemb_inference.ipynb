{
 "cells": [
  {
   "cell_type": "markdown",
   "metadata": {},
   "source": [
    "# Inference using the BEMB model\n",
    "\n",
    "This tutorial covers methods for post-estimation inference. After training the BEMB model, it is useful to have a more detailed look at predictions from the model. Functionalities covered in this tutorial allows you to make prediction on new datasets. Methods here (i.e., `forward()` and `predict_proba()`) are versatile and offering both predicted probabilities and predicted utilities.\n",
    "\n",
    "Author: Tianyu Du\n",
    "\n",
    "Date: Aug. 8, 2022\n",
    "\n",
    "Update: Aug. 10, 2022"
   ]
  },
  {
   "cell_type": "code",
   "execution_count": 1,
   "metadata": {},
   "outputs": [
    {
     "name": "stderr",
     "output_type": "stream",
     "text": [
      "/Users/tianyudu/miniforge3/envs/ml/lib/python3.9/site-packages/scipy/__init__.py:146: UserWarning: A NumPy version >=1.16.5 and <1.23.0 is required for this version of SciPy (detected version 1.23.1\n",
      "  warnings.warn(f\"A NumPy version >={np_minversion} and <{np_maxversion}\"\n"
     ]
    }
   ],
   "source": [
    "import sys\n",
    "from typing import Optional, Dict\n",
    "\n",
    "import numpy as np\n",
    "import pandas as pd\n",
    "import torch\n",
    "\n",
    "# we use the dataset simulation method from unit tests.\n",
    "sys.path.append('../../tests')\n",
    "import simulate_choice_dataset\n",
    "import torch\n",
    "from bemb.model import LitBEMBFlex\n",
    "from torch_choice.data import ChoiceDataset"
   ]
  },
  {
   "cell_type": "markdown",
   "metadata": {},
   "source": [
    "## Generate Simulated Datasets\n",
    "We will use the simulated dataset in [this tutorial](https://gsbdbi.github.io/bemb/bemb_obs2prior_simulation/) for demonstration purpose.\n",
    "\n",
    "The simulated dataset is divided into train (80%), validation (10%), and test (10%) subsets automatically.\n",
    "\n",
    "Moreover, the simulated dataset includes 50-dimensional user observables and item observables. [This tutorial](https://gsbdbi.github.io/bemb/bemb_obs2prior_simulation/) mentioned definitions of these observables but you don't need to know them for the purpose of this tutorial."
   ]
  },
  {
   "cell_type": "code",
   "execution_count": 2,
   "metadata": {},
   "outputs": [
    {
     "name": "stdout",
     "output_type": "stream",
     "text": [
      "No `session_index` is provided, assume each choice instance is in its own session.\n"
     ]
    },
    {
     "data": {
      "text/plain": [
       "[ChoiceDataset(label=[], item_index=[8000], user_index=[8000], session_index=[8000], item_availability=[], user_obs=[1500, 50], item_obs=[50, 50], device=cpu),\n",
       " ChoiceDataset(label=[], item_index=[1000], user_index=[1000], session_index=[1000], item_availability=[], user_obs=[1500, 50], item_obs=[50, 50], device=cpu),\n",
       " ChoiceDataset(label=[], item_index=[1000], user_index=[1000], session_index=[1000], item_availability=[], user_obs=[1500, 50], item_obs=[50, 50], device=cpu)]"
      ]
     },
     "execution_count": 2,
     "metadata": {},
     "output_type": "execute_result"
    }
   ],
   "source": [
    "num_users = 1500\n",
    "num_items = 50\n",
    "data_size = 10000\n",
    "\n",
    "# split into three train, validation and test datasets.\n",
    "dataset_list = simulate_choice_dataset.simulate_dataset(num_users=num_users, num_items=num_items, data_size=data_size)\n",
    "dataset_list"
   ]
  },
  {
   "cell_type": "markdown",
   "metadata": {},
   "source": [
    "## Construct and Train the Model\n",
    "\n",
    "Here we will be using a rather simple model with two sets of parameters, an user latent $\\theta_u \\in \\mathbb{R}^{10}$ for each of the 1,500 users, and an item latent $\\alpha_i \\in \\mathbb{R}^{10}$ for each of the 50 items.\n",
    "\n",
    "**Note**: The behavior of `forward()` and `predict_proba()` methods depends on the model setup (i.e., whether `pred_item` or not).\n",
    "\n",
    "**Note**: The `LitBEMBFlex` object is a class wrapping the actual model with training loops, to access the core model encompassed, we use `bemb.model` (see the `return` line of `train_model()`)."
   ]
  },
  {
   "cell_type": "code",
   "execution_count": 3,
   "metadata": {},
   "outputs": [],
   "source": [
    "def train_model(pred_item: bool):\n",
    "    bemb = LitBEMBFlex(\n",
    "        learning_rate=0.03,  # set the learning rate, feel free to play with different levels.\n",
    "        pred_item=pred_item,\n",
    "        num_seeds=32,  # number of Monte Carlo samples for estimating the ELBO.\n",
    "        utility_formula='theta_user * alpha_item',  # the utility formula.\n",
    "        # tell the model some necessary information about the setup.\n",
    "        num_users=num_users,\n",
    "        num_items=num_items,\n",
    "        num_user_obs=dataset_list[0].user_obs.shape[1],\n",
    "        num_item_obs=dataset_list[0].item_obs.shape[1],\n",
    "        # whether to turn on obs2prior for each parameter.\n",
    "        obs2prior_dict={'theta_user': True, 'alpha_item': True},\n",
    "        # the dimension of latents, since the utility is an inner product of theta and alpha, they should have\n",
    "        # the same dimension.\n",
    "        coef_dim_dict={'theta_user': 10, 'alpha_item': 10}\n",
    "    )\n",
    "\n",
    "    # use GPU if available.\n",
    "    if torch.cuda.is_available():\n",
    "        bemb = bemb.to('cuda')\n",
    "        \n",
    "    # use the provided run helper to train the model.\n",
    "    # we set batch size to be 5% of the data size, and train the model for 10 epochs.\n",
    "    # there would be 20*10=200 gradient update steps in total.\n",
    "    bemb = bemb.fit_model(dataset_list, batch_size=len(dataset_list[0]) // 20, num_epochs=10, num_workers=0)\n",
    "    # The `LitBEMBFlex` object is a class wrapping the actual model with training loops, to access the core model encompassed, we use `bemb.model`.\n",
    "    return bemb.model"
   ]
  },
  {
   "cell_type": "markdown",
   "metadata": {},
   "source": [
    "## The `forward()` Function\n",
    "\n",
    "The `forward()` function is the main workhorse for inference, please see the doc-string of `forward()` function for definitions of its arguments."
   ]
  },
  {
   "cell_type": "code",
   "execution_count": 4,
   "metadata": {},
   "outputs": [],
   "source": [
    "def forward(self, batch: ChoiceDataset,\n",
    "            return_type: str,\n",
    "            return_scope: str,\n",
    "            deterministic: bool = True,\n",
    "            sample_dict: Optional[Dict[str, torch.Tensor]] = None,\n",
    "            num_seeds: Optional[int] = None\n",
    "            ) -> torch.Tensor:\n",
    "    \"\"\"A combined method for inference with the model.\n",
    "\n",
    "    Args:\n",
    "        batch (ChoiceDataset): batch data containing choice information.\n",
    "        return_type (str): either 'log_prob' or 'utility'.\n",
    "            'log_prob': return the log-probability (by within-category log-softmax) for items\n",
    "            'utility': return the utility value of items.\n",
    "        return_scope (str): either 'item_index' or 'all_items'.\n",
    "            'item_index': for each observation i, return log-prob/utility for the chosen item batch.item_index[i] only.\n",
    "            'all_items': for each observation i, return log-prob/utility for all items.\n",
    "        deterministic (bool, optional):\n",
    "            True: expectations of parameter variational distributions are used for inference.\n",
    "            False: the user needs to supply a dictionary of sampled parameters for inference.\n",
    "            Defaults to True.\n",
    "        sample_dict (Optional[Dict[str, torch.Tensor]], optional): sampled parameters for inference task.\n",
    "            This is not needed when `deterministic` is True.\n",
    "            When `deterministic` is False, the user can supply a `sample_dict`. If `sample_dict` is not provided,\n",
    "            this method will create `num_seeds` samples.\n",
    "            Defaults to None.\n",
    "        num_seeds (Optional[int]): the number of random samples of parameters to construct. This is only required\n",
    "            if `deterministic` is False (i.e., stochastic mode) and `sample_dict` is not provided.\n",
    "            Defaults to None.\n",
    "    Returns:\n",
    "        torch.Tensor: a tensor of log-probabilities or utilities, depending on `return_type`.\n",
    "            The shape of the returned tensor depends on `return_scope` and `deterministic`.\n",
    "            -------------------------------------------------------------------------\n",
    "            | `return_scope` | `deterministic` |         Output shape               |\n",
    "            -------------------------------------------------------------------------\n",
    "            |   'item_index` |      True       | (len(batch),)                      |\n",
    "            -------------------------------------------------------------------------\n",
    "            |   'all_items'  |      True       | (len(batch), num_items)            |\n",
    "            -------------------------------------------------------------------------\n",
    "            |   'item_index' |      False      | (num_seeds, len(batch))            |\n",
    "            -------------------------------------------------------------------------\n",
    "            |   'all_items'  |      False      | (num_seeds, len(batch), num_items) |\n",
    "            -------------------------------------------------------------------------\n",
    "    \"\"\"\n",
    "    # function body omitted.\n",
    "    return None"
   ]
  },
  {
   "cell_type": "markdown",
   "metadata": {},
   "source": [
    "With our simple model, for the $k$-th purchasing record (observation) in the dataset, suppose `dataset.user_index[k] = ` $u(k)$ and `dataset.user_index[k] = ` $i(k)$.\n",
    "Suppose there are $K$ such observations in the dataset.\n",
    "\n",
    "After training the model, the model now contain fitted values of `\\theta`'s and `\\alpha's`, inference predictions will be based on these parameters. \n",
    "\n",
    "Our simple model calculates $$U_{u(k) \\ell} = \\theta_{u(k)}^\\top \\alpha_\\ell$$ for every possible item $\\ell$ including the chosen $i(k)$. This is called user $u(k)$'s *utility* from buying item $\\ell$.\n",
    "\n",
    "As mentioned before, interpretations of the `forward()` function are slightly different depending on whether `pred_item == True`."
   ]
  },
  {
   "cell_type": "markdown",
   "metadata": {},
   "source": [
    "### Summary Table for `forward()` Method\n",
    "\n",
    "\n",
    "| `pred_item`| `return_scope` | `return_type`  | Output Shape | Output Tensor|\n",
    "| :---: | :----: | :---: | :---: | :---: |\n",
    "| `True`  | `item_index`    |  `utility`  | `(len(batch),)`| $\\left[\\theta_{u(1)}^\\top \\alpha_{i(1)}, \\theta_{u(2)}^\\top \\alpha_{i(2)}, \\dots, \\theta_{u(K)}^\\top \\alpha_{i(K)}\\right]$|\n",
    "| `True`  | `item_index`    |  `log_prob`  | `(len(batch),)`| $\\left[\\log\\left(\\frac{\\exp(\\theta_{u(1)}^\\top \\alpha_{i(1)})}{\\sum_{\\ell \\in \\text{category of } i(1)} \\exp(\\theta_{u(1)}^\\top \\alpha_{\\ell}) }\\right), \\log\\left(\\frac{\\exp(\\theta_{u(2)}^\\top \\alpha_{i(2)})}{\\sum_{\\ell \\in \\text{category of } i(2)} \\exp(\\theta_{u(2)}^\\top \\alpha_{\\ell}) }\\right), \\dots, \\log\\left(\\frac{\\exp(\\theta_{u(K)}^\\top \\alpha_{i(K)})}{\\sum_{\\ell \\in \\text{category of } i(K)} \\exp(\\theta_{u(K)}^\\top \\alpha_{\\ell}) }\\right)\\right]$|\n",
    "| `True`  | `all_items`    |  `utility`  | `(len(batch), num_items)`| $\\begin{bmatrix} \\theta_{u(1)}^\\top \\alpha_{1}, \\theta_{u(1)}^\\top \\alpha_{2}, \\dots, \\theta_{u(1)}^\\top \\alpha_{num\\_items} \\\\ \\theta_{u(2)}^\\top \\alpha_{1}, \\theta_{u(2)}^\\top \\alpha_{2}, \\dots, \\theta_{u(2)}^\\top \\alpha_{num\\_items} \\\\ \\vdots \\\\ \\theta_{u(K)}^\\top \\alpha_{1}, \\theta_{u(K)}^\\top \\alpha_{2}, \\dots, \\theta_{u(K)}^\\top \\alpha_{num\\_items} \\end{bmatrix}$|\n",
    "| `True`  | `all_items`    |  `log_prob`  | `(len(batch), num_items)`| $\\begin{bmatrix} \\log\\left(\\frac{\\exp(\\theta_{u(1)}^\\top \\alpha_{1})}{\\sum_{\\ell \\in \\text{category of } 1} \\exp(\\theta_{u(1)}^\\top \\alpha_{\\ell}) }\\right), \\log\\left(\\frac{\\exp(\\theta_{u(1)}^\\top \\alpha_{2})}{\\sum_{\\ell \\in \\text{category of } 2} \\exp(\\theta_{u(1)}^\\top \\alpha_{\\ell}) }\\right), \\dots, \\log\\left(\\frac{\\exp(\\theta_{u(1)}^\\top \\alpha_{num\\_items})}{\\sum_{\\ell \\in \\text{category of } num\\_items} \\exp(\\theta_{u(1)}^\\top \\alpha_{\\ell}) }\\right) \\\\ \\log\\left(\\frac{\\exp(\\theta_{u(2)}^\\top \\alpha_{1})}{\\sum_{\\ell \\in \\text{category of } 1} \\exp(\\theta_{u(2)}^\\top \\alpha_{\\ell}) }\\right), \\log\\left(\\frac{\\exp(\\theta_{u(2)}^\\top \\alpha_{2})}{\\sum_{\\ell \\in \\text{category of } 2} \\exp(\\theta_{u(2)}^\\top \\alpha_{\\ell}) }\\right), \\dots, \\log\\left(\\frac{\\exp(\\theta_{u(2)}^\\top \\alpha_{num\\_items})}{\\sum_{\\ell \\in \\text{category of } num\\_items} \\exp(\\theta_{u(2)}^\\top \\alpha_{\\ell}) }\\right) \\\\ \\vdots \\\\ \\log\\left(\\frac{\\exp(\\theta_{u(K)}^\\top \\alpha_1)}{\\sum_{\\ell \\in \\text{category of } 1} \\exp(\\theta_{u(K)}^\\top \\alpha_{\\ell}) }\\right), \\log\\left(\\frac{\\exp(\\theta_{u(K)}^\\top \\alpha_2)}{\\sum_{\\ell \\in \\text{category of } 2} \\exp(\\theta_{u(K)}^\\top \\alpha_{\\ell}) }\\right), \\dots, \\log\\left(\\frac{\\exp(\\theta_{u(K)}^\\top \\alpha_{num\\_items})}{\\sum_{\\ell \\in \\text{category of } num\\_items} \\exp(\\theta_{u(K)}^\\top \\alpha_{\\ell}) }\\right) \\end{bmatrix}$|\n",
    "| `False`  | `item_index`    |  `utility`  | `(len(batch),)`| $\\left[\\theta_{u(1)}^\\top \\alpha_{i(1)}, \\theta_{u(2)}^\\top \\alpha_{i(2)}, \\dots, \\theta_{u(K)}^\\top \\alpha_{i(K)}\\right]$|\n",
    "| `False`  | `item_index`    |  `log_prob`  | `(len(batch),)`| $\\left[y_1 \\log\\left(\\sigma\\left(\\theta_{u(1)}^\\top \\alpha_{i(1)}\\right)\\right) + (1-y_1) \\log\\left(1-\\sigma\\left(\\theta_{u(1)}^\\top \\alpha_{i(1)}\\right)\\right), y_2 \\log\\left(\\sigma\\left(\\theta_{u(2)}^\\top \\alpha_{i(2)}\\right)\\right) + (1-y_2) \\log\\left(1-\\sigma\\left(\\theta_{u(2)}^\\top \\alpha_{i(2)}\\right)\\right), \\dots, y_K \\log\\left(\\sigma\\left(\\theta_{u(K)}^\\top \\alpha_{i(K)}\\right)\\right) + (1-y_K) \\log\\left(1-\\sigma\\left(\\theta_{u(K)}^\\top \\alpha_{i(K)}\\right)\\right)\\right]$|\n",
    "| `False`  | `all_items`    |  `utility`  | `(len(batch), num_items)`| $\\begin{bmatrix} \\theta_{u(1)}^\\top \\alpha_{1}, \\theta_{u(1)}^\\top \\alpha_{2}, \\dots, \\theta_{u(1)}^\\top \\alpha_{num\\_items} \\\\ \\theta_{u(2)}^\\top \\alpha_{1}, \\theta_{u(2)}^\\top \\alpha_{2}, \\dots, \\theta_{u(2)}^\\top \\alpha_{num\\_items} \\\\ \\vdots \\\\ \\theta_{u(K)}^\\top \\alpha_{1}, \\theta_{u(K)}^\\top \\alpha_{2}, \\dots, \\theta_{u(K)}^\\top \\alpha_{num\\_items} \\end{bmatrix}$|\n",
    "| `False`  | `all_items`    |  `log_prob`  | `(len(batch), num_items)`| $\\begin{bmatrix} y_1 \\log\\left(\\sigma\\left(\\theta_{u(1)}^\\top \\alpha_{1}\\right)\\right) + (1-y_1) \\log\\left(1-\\sigma\\left(\\theta_{u(1)}^\\top \\alpha_{1}\\right)\\right), y_1 \\log\\left(\\sigma\\left(\\theta_{u(1)}^\\top \\alpha_{2}\\right)\\right) + (1-y_1) \\log\\left(1-\\sigma\\left(\\theta_{u(1)}^\\top \\alpha_{2}\\right)\\right) , \\dots, y_1 \\log\\left(\\sigma\\left(\\theta_{u(1)}^\\top \\alpha_{num\\_items}\\right)\\right) + (1-y_1) \\log\\left(1-\\sigma\\left(\\theta_{u(1)}^\\top \\alpha_{num\\_items}\\right)\\right) \\\\ y_2 \\log\\left(\\sigma\\left(\\theta_{u(2)}^\\top \\alpha_{1}\\right)\\right) + (1-y_2) \\log\\left(1-\\sigma\\left(\\theta_{u(2)}^\\top \\alpha_{1}\\right)\\right), y_2 \\log\\left(\\sigma\\left(\\theta_{u(2)}^\\top \\alpha_{2}\\right)\\right) + (1-y_2) \\log\\left(1-\\sigma\\left(\\theta_{u(2)}^\\top \\alpha_{2}\\right)\\right) , \\dots, y_2 \\log\\left(\\sigma\\left(\\theta_{u(2)}^\\top \\alpha_{num\\_items}\\right)\\right) + (1-y_2) \\log\\left(1-\\sigma\\left(\\theta_{u(2)}^\\top \\alpha_{num\\_items}\\right)\\right) \\\\ \\vdots \\\\ y_K \\log\\left(\\sigma\\left(\\theta_{u(K)}^\\top \\alpha_{1}\\right)\\right) + (1-y_K) \\log\\left(1-\\sigma\\left(\\theta_{u(K)}^\\top \\alpha_{1}\\right)\\right), y_K \\log\\left(\\sigma\\left(\\theta_{u(K)}^\\top \\alpha_{2}\\right)\\right) + (1-y_K) \\log\\left(1-\\sigma\\left(\\theta_{u(K)}^\\top \\alpha_{2}\\right)\\right) , \\dots, y_K \\log\\left(\\sigma\\left(\\theta_{u(K)}^\\top \\alpha_{num\\_items}\\right)\\right) + (1-y_K) \\log\\left(1-\\sigma\\left(\\theta_{u(K)}^\\top \\alpha_{num\\_items}\\right)\\right) \\end{bmatrix}$|"
   ]
  },
  {
   "cell_type": "markdown",
   "metadata": {},
   "source": [
    "### Predicting Item Index (`pred_item == True`)\n",
    "In this case, the model aims to predict *which item user $u(k)$ would purchase*.\n",
    "\n",
    "Let's get a copy of the simple model."
   ]
  },
  {
   "cell_type": "code",
   "execution_count": 5,
   "metadata": {},
   "outputs": [
    {
     "name": "stderr",
     "output_type": "stream",
     "text": [
      "GPU available: False, used: False\n",
      "TPU available: False, using: 0 TPU cores\n",
      "IPU available: False, using: 0 IPUs\n",
      "HPU available: False, using: 0 HPUs\n",
      "\n",
      "  | Name  | Type     | Params\n",
      "-----------------------------------\n",
      "0 | model | BEMBFlex | 33.0 K\n",
      "-----------------------------------\n",
      "33.0 K    Trainable params\n",
      "0         Non-trainable params\n",
      "33.0 K    Total params\n",
      "0.132     Total estimated model params size (MB)\n"
     ]
    }
   ],
   "source": [
    "%%capture\n",
    "# use %%capture to hide cumbersome logs of training.\n",
    "model = train_model(pred_item=True)"
   ]
  },
  {
   "cell_type": "markdown",
   "metadata": {},
   "source": [
    "Let's then make predicting using the test set (the last entry in `dataset_list`)."
   ]
  },
  {
   "cell_type": "code",
   "execution_count": 6,
   "metadata": {},
   "outputs": [],
   "source": [
    "batch = dataset_list[-1]"
   ]
  },
  {
   "cell_type": "markdown",
   "metadata": {},
   "source": [
    "\n",
    "Recall that, for each observation $k$, suppose $u(k)$ is the corresponding user and item $i(k)$ was chosen. With learned parameters $\\theta_u$ and $\\alpha_i$, the model first calculates $$U_{u(k) \\ell} = \\theta_{u(k)}^\\top \\alpha_\\ell$$ for every possible item $\\ell$ including the chosen $i(k)$. This is called user $u(k)$'s *utility* from buying item $\\ell$.\n",
    "\n",
    "Then, the predicted probability for user $u(k)$ to purchase item $i$ is:\n",
    "$$\\frac{\\exp(\\theta_{u(1)}^\\top \\alpha_i)}{\\sum_{\\ell \\in \\text{category of } i} \\exp(\\theta_{u(1)}^\\top \\alpha_{\\ell}) }$$\n",
    "\n",
    "The denominator was normalizing using all items belonging to the category of item $i$, however, in this example, we don't consider items' categories (i.e., assuming all of them belong to the same category). The predicted probability becomes:\n",
    "$$\\frac{\\exp(\\theta_{u(1)}^\\top \\alpha_i)}{\\sum_{\\ell=1}^{num\\_items} \\exp(\\theta_{u(1)}^\\top \\alpha_{\\ell}) }$$"
   ]
  },
  {
   "cell_type": "markdown",
   "metadata": {},
   "source": [
    "The `forward()` function allows you to get predicted probabilities (actually, log-probability for numerical stability) for all items. You would need to specify \n",
    "* `return_scope='all_items'`\n",
    "* `return_type='log_prob'`\n",
    "\n",
    "As we expected, the shape of `log_prob_all_items` is $K$ by num-items, so that `log_prob_all_items[k, i]` denotes the predicted log-probability for user $u(k)$ to choose item $i$ in the context of the $k$-th observation.\n",
    "\n",
    "Formally, the returned tensor is:\n",
    "\n",
    "$$\\begin{bmatrix} \\log\\left(\\frac{\\exp(\\theta_{u(1)}^\\top \\alpha_{1})}{\\sum_{\\ell \\in \\text{category of } 1} \\exp(\\theta_{u(1)}^\\top \\alpha_{\\ell}) }\\right), \\log\\left(\\frac{\\exp(\\theta_{u(1)}^\\top \\alpha_{2})}{\\sum_{\\ell \\in \\text{category of } 2} \\exp(\\theta_{u(1)}^\\top \\alpha_{\\ell}) }\\right), \\dots, \\log\\left(\\frac{\\exp(\\theta_{u(1)}^\\top \\alpha_{num\\_items})}{\\sum_{\\ell \\in \\text{category of } num\\_items} \\exp(\\theta_{u(1)}^\\top \\alpha_{\\ell}) }\\right) \\\\ \\log\\left(\\frac{\\exp(\\theta_{u(2)}^\\top \\alpha_{1})}{\\sum_{\\ell \\in \\text{category of } 1} \\exp(\\theta_{u(2)}^\\top \\alpha_{\\ell}) }\\right), \\log\\left(\\frac{\\exp(\\theta_{u(2)}^\\top \\alpha_{2})}{\\sum_{\\ell \\in \\text{category of } 2} \\exp(\\theta_{u(2)}^\\top \\alpha_{\\ell}) }\\right), \\dots, \\log\\left(\\frac{\\exp(\\theta_{u(2)}^\\top \\alpha_{num\\_items})}{\\sum_{\\ell \\in \\text{category of } num\\_items} \\exp(\\theta_{u(2)}^\\top \\alpha_{\\ell}) }\\right) \\\\ \\vdots \\\\ \\log\\left(\\frac{\\exp(\\theta_{u(K)}^\\top \\alpha_1)}{\\sum_{\\ell \\in \\text{category of } 1} \\exp(\\theta_{u(K)}^\\top \\alpha_{\\ell}) }\\right), \\log\\left(\\frac{\\exp(\\theta_{u(K)}^\\top \\alpha_2)}{\\sum_{\\ell \\in \\text{category of } 2} \\exp(\\theta_{u(K)}^\\top \\alpha_{\\ell}) }\\right), \\dots, \\log\\left(\\frac{\\exp(\\theta_{u(K)}^\\top \\alpha_{num\\_items})}{\\sum_{\\ell \\in \\text{category of } num\\_items} \\exp(\\theta_{u(K)}^\\top \\alpha_{\\ell}) }\\right) \\end{bmatrix}$$"
   ]
  },
  {
   "cell_type": "code",
   "execution_count": 7,
   "metadata": {},
   "outputs": [
    {
     "name": "stdout",
     "output_type": "stream",
     "text": [
      "log_prob_all_items.shape=torch.Size([1000, 50])\n"
     ]
    }
   ],
   "source": [
    "log_prob_all_items = model.forward(batch, return_scope='all_items', return_type='log_prob')\n",
    "print(f\"{log_prob_all_items.shape=:}\")"
   ]
  },
  {
   "cell_type": "markdown",
   "metadata": {},
   "source": [
    "The predicted probabilities in each row of `log_prob_all_items` should (approximately) sum to one."
   ]
  },
  {
   "cell_type": "code",
   "execution_count": 8,
   "metadata": {},
   "outputs": [
    {
     "name": "stdout",
     "output_type": "stream",
     "text": [
      "tensor([[0.0419, 0.0089, 0.0380,  ..., 0.0266, 0.0098, 0.0428],\n",
      "        [0.0104, 0.0393, 0.0197,  ..., 0.0196, 0.0078, 0.0346],\n",
      "        [0.0284, 0.0262, 0.0207,  ..., 0.0041, 0.0049, 0.0062],\n",
      "        ...,\n",
      "        [0.0043, 0.0255, 0.0065,  ..., 0.0147, 0.0056, 0.0263],\n",
      "        [0.0101, 0.0215, 0.0091,  ..., 0.0168, 0.0462, 0.0052],\n",
      "        [0.0191, 0.0283, 0.0014,  ..., 0.0049, 0.0254, 0.0192]],\n",
      "       grad_fn=<ExpBackward0>)\n",
      "log_prob_all_items.exp().sum(dim=1).max()=1.0000003576278687\n",
      "log_prob_all_items.exp().sum(dim=1).min()=0.9999995827674866\n"
     ]
    }
   ],
   "source": [
    "print(log_prob_all_items.exp())\n",
    "print(f\"{log_prob_all_items.exp().sum(dim=1).max()=:}\")\n",
    "print(f\"{log_prob_all_items.exp().sum(dim=1).min()=:}\")"
   ]
  },
  {
   "cell_type": "markdown",
   "metadata": {},
   "source": [
    "Sometimes we want raw values of utilities of each user $u(k)$ from purchasing each item $i$. To achieve this, we specify:\n",
    "* `return_type='utility'`\n",
    "\n",
    "In this case, the returned tensor is:\n",
    "\n",
    "$$\\begin{bmatrix} \\theta_{u(1)}^\\top \\alpha_{1}, \\theta_{u(1)}^\\top \\alpha_{2}, \\dots, \\theta_{u(1)}^\\top \\alpha_{num\\_items} \\\\ \\theta_{u(2)}^\\top \\alpha_{1}, \\theta_{u(2)}^\\top \\alpha_{2}, \\dots, \\theta_{u(2)}^\\top \\alpha_{num\\_items} \\\\ \\vdots \\\\ \\theta_{u(K)}^\\top \\alpha_{1}, \\theta_{u(K)}^\\top \\alpha_{2}, \\dots, \\theta_{u(K)}^\\top \\alpha_{num\\_items} \\end{bmatrix}$$"
   ]
  },
  {
   "cell_type": "code",
   "execution_count": 9,
   "metadata": {},
   "outputs": [
    {
     "name": "stdout",
     "output_type": "stream",
     "text": [
      "utility_all_items.shape=torch.Size([1000, 50])\n"
     ]
    }
   ],
   "source": [
    "utility_all_items = model.forward(batch, return_scope='all_items', return_type='utility')\n",
    "print(f\"{utility_all_items.shape=:}\")"
   ]
  },
  {
   "cell_type": "markdown",
   "metadata": {},
   "source": [
    "Note that there is no guarantee on the row-sum of this tensor."
   ]
  },
  {
   "cell_type": "code",
   "execution_count": 10,
   "metadata": {},
   "outputs": [
    {
     "name": "stdout",
     "output_type": "stream",
     "text": [
      "tensor([[ 0.7441, -0.8005,  0.6468,  ...,  0.2911, -0.7060,  0.7649],\n",
      "        [-0.6786,  0.6514, -0.0381,  ..., -0.0436, -0.9664,  0.5246],\n",
      "        [ 0.5187,  0.4397,  0.2012,  ..., -1.4056, -1.2460, -1.0009],\n",
      "        ...,\n",
      "        [-0.9111,  0.8633, -0.4985,  ...,  0.3130, -0.6555,  0.8928],\n",
      "        [-0.2202,  0.5378, -0.3241,  ...,  0.2927,  1.3049, -0.8828],\n",
      "        [ 0.4644,  0.8605, -2.1168,  ..., -0.8846,  0.7492,  0.4722]],\n",
      "       grad_fn=<SqueezeBackward1>)\n"
     ]
    }
   ],
   "source": [
    "print(utility_all_items)"
   ]
  },
  {
   "cell_type": "markdown",
   "metadata": {},
   "source": [
    "In some other cases, such as while computing the log-likelihood to assess the goodness-of-fit for the entire model, we only care about user $u(k)$'s utility/log-probability for item $i(k)$ that she/he actually bought.\n",
    "\n",
    "Specifying \n",
    "* `return_scope = 'item_index`\n",
    "calculates these values much faster on large datasets and/or we have many categories of items compared to the `log_prob_all_items[torch.arange(len(batch)), batch.item_index]` operation."
   ]
  },
  {
   "cell_type": "code",
   "execution_count": 11,
   "metadata": {},
   "outputs": [
    {
     "name": "stdout",
     "output_type": "stream",
     "text": [
      "log_prob_item_index.shape=torch.Size([1000])\n"
     ]
    }
   ],
   "source": [
    "log_prob_item_index = model.forward(batch, return_scope='item_index', return_type='log_prob')\n",
    "print(f\"{log_prob_item_index.shape=:}\")"
   ]
  },
  {
   "cell_type": "code",
   "execution_count": 12,
   "metadata": {},
   "outputs": [
    {
     "data": {
      "text/plain": [
       "tensor(True)"
      ]
     },
     "execution_count": 12,
     "metadata": {},
     "output_type": "execute_result"
    }
   ],
   "source": [
    "torch.all(log_prob_item_index == log_prob_all_items[torch.arange(len(batch)), batch.item_index])"
   ]
  },
  {
   "cell_type": "code",
   "execution_count": 13,
   "metadata": {},
   "outputs": [
    {
     "name": "stdout",
     "output_type": "stream",
     "text": [
      "utility_item_index.shape=torch.Size([1000])\n"
     ]
    },
    {
     "data": {
      "text/plain": [
       "tensor(True)"
      ]
     },
     "execution_count": 13,
     "metadata": {},
     "output_type": "execute_result"
    }
   ],
   "source": [
    "utility_item_index = model.forward(batch, return_scope='item_index', return_type='utility')\n",
    "print(f\"{utility_item_index.shape=:}\")\n",
    "torch.all(utility_item_index == utility_all_items[torch.arange(len(batch)), batch.item_index])"
   ]
  },
  {
   "cell_type": "markdown",
   "metadata": {},
   "source": [
    "### Predicting Binary Labels (`pred_item == False`)\n",
    "We have a label $y_k \\in \\{0, 1\\}$ for each observation $k$, the model can either output the (1) raw utility or (2) the predicted $\\hat{P}(y_k = 1)$ defined as $\\sigma(U)$, where $\\sigma(x) = \\frac{1}{1 + \\exp(-x)}$.\n",
    "\n",
    "**Notes**\n",
    "1. the return shape does not depend on the `return_type`, please compare exact expressions to see the difference.\n",
    "2. the `pred_item` variable was specified while initializing the model (see above), `return_scope` and `return_type` are supplied while calling `forward()`."
   ]
  },
  {
   "cell_type": "code",
   "execution_count": 14,
   "metadata": {},
   "outputs": [],
   "source": [
    "for dataset in dataset_list:\n",
    "    # assign some trivial labels.\n",
    "    dataset.label = torch.Tensor(dataset.user_index >= (num_users // 2)).long()"
   ]
  },
  {
   "cell_type": "code",
   "execution_count": 15,
   "metadata": {},
   "outputs": [
    {
     "name": "stderr",
     "output_type": "stream",
     "text": [
      "GPU available: False, used: False\n",
      "TPU available: False, using: 0 TPU cores\n",
      "IPU available: False, using: 0 IPUs\n",
      "HPU available: False, using: 0 HPUs\n",
      "\n",
      "  | Name  | Type     | Params\n",
      "-----------------------------------\n",
      "0 | model | BEMBFlex | 33.0 K\n",
      "-----------------------------------\n",
      "33.0 K    Trainable params\n",
      "0         Non-trainable params\n",
      "33.0 K    Total params\n",
      "0.132     Total estimated model params size (MB)\n"
     ]
    }
   ],
   "source": [
    "%%capture\n",
    "# use %%capture to hide cumbersome logs of training.\n",
    "model = train_model(pred_item=False)"
   ]
  },
  {
   "cell_type": "code",
   "execution_count": 16,
   "metadata": {},
   "outputs": [],
   "source": [
    "batch = dataset_list[-1]"
   ]
  },
  {
   "cell_type": "markdown",
   "metadata": {},
   "source": [
    "With `return_scope='item_index', return_type='utility'`, the `forward()` method returns\n",
    "$$\\left[\\theta_{u(1)}^\\top \\alpha_{i(1)}, \\theta_{u(2)}^\\top \\alpha_{i(2)}, \\dots, \\theta_{u(K)}^\\top \\alpha_{i(K)}\\right].$$\n",
    "This is indeed the same as the case wth `pred_item = True` above.\n",
    "\n",
    "Therefore, `utility_item_index[k]` below is the utility of user $u(k)$ from purchasing the item $i(k)$ in the $k$-th observation.  \n",
    "\n",
    "With `pred_item = False`, each observation $k$ is now associated with a label $y_k \\in \\{0, 1\\}$. With `return_type='log_prob'`, the `forward()` function returns the predicted probability of the label $y_k$.\n",
    "\n",
    "Specifically, the model will predict the probability of the positive class (i.e., $y_k = 1$), condition on latent of user $u(k)$ and item $i(k)$ as\n",
    "$$\n",
    "P(y_k=1 | \\theta_{u(k)}, \\alpha_{i(k)}) = \\sigma(\\theta_{u(k)}^\\top \\alpha_{i(k)}) = \\frac{1}{1 + \\exp\\left(-\\theta_{u(K)}^\\top \\alpha_{i(K)}\\right)} \\in [0, 1]\n",
    "$$\n",
    "Therefore, the $k$-th entry of the returned tensor (i.e., `log_prob_item_index[k]` below) is $\\log \\sigma(\\theta_{u(k)}^\\top \\alpha_{i(k)})$ if $y_k = 1$ and $\\log \\left(1 - \\sigma(\\theta_{u(k)}^\\top \\alpha_{i(k)})\\right)$ if $y_k = 0$.\n",
    "This can be equivalently written as\n",
    "$$\\left[y_1 \\log\\left(\\sigma\\left(\\theta_{u(1)}^\\top \\alpha_{i(1)}\\right)\\right) + (1-y_1) \\log\\left(1-\\sigma\\left(\\theta_{u(1)}^\\top \\alpha_{i(1)}\\right)\\right), y_2 \\log\\left(\\sigma\\left(\\theta_{u(2)}^\\top \\alpha_{i(2)}\\right)\\right) + (1-y_2) \\log\\left(1-\\sigma\\left(\\theta_{u(2)}^\\top \\alpha_{i(2)}\\right)\\right), \\dots, y_K \\log\\left(\\sigma\\left(\\theta_{u(K)}^\\top \\alpha_{i(K)}\\right)\\right) + (1-y_K) \\log\\left(1-\\sigma\\left(\\theta_{u(K)}^\\top \\alpha_{i(K)}\\right)\\right)\\right]$$"
   ]
  },
  {
   "cell_type": "code",
   "execution_count": 17,
   "metadata": {},
   "outputs": [
    {
     "name": "stdout",
     "output_type": "stream",
     "text": [
      "utility_item_index.shape=torch.Size([1000])\n",
      "log_prob_item_index.shape=torch.Size([1000])\n"
     ]
    }
   ],
   "source": [
    "utility_item_index = model.forward(batch, return_scope='item_index', return_type='utility')\n",
    "print(f'{utility_item_index.shape=:}')\n",
    "log_prob_item_index = model.forward(batch, return_scope='item_index', return_type='log_prob')\n",
    "print(f'{log_prob_item_index.shape=:}')"
   ]
  },
  {
   "cell_type": "markdown",
   "metadata": {},
   "source": [
    "But, what if I want $P(y_k=1 | \\theta_{u(k)}, \\alpha_{i(k)})$ for every observation $k$? The solution is straightforward, we simply take the $\\sigma(\\cdot)$ transformation of utilities returned by `utility_all_items = model.forward(batch, return_scope='item_index', return_type='utility')`.\n",
    "\n",
    "Please note that when `return_type = 'utility'`, the dataset (`batch`) doesn't need to have a `label` attribute! For example, you might have `label` on your training dataset, but you want to conduct inference on a new dataset without known labels. You can simply create a `ChoiceDataset` object without the `label` attribute and use the following method to draw inference on it (e.g., get predicted probabilities of positive classes).\n",
    "\n",
    "Here is an example:"
   ]
  },
  {
   "cell_type": "code",
   "execution_count": 18,
   "metadata": {},
   "outputs": [],
   "source": [
    "# make a copy of the batch.\n",
    "batch_copy = batch.clone()\n",
    "# manually delete the label attribute, with return_type = 'utility', we don't need this.\n",
    "del batch_copy.label"
   ]
  },
  {
   "cell_type": "code",
   "execution_count": 19,
   "metadata": {},
   "outputs": [],
   "source": [
    "A = model.forward(batch_copy, return_scope='item_index', return_type='utility')\n",
    "prob_positive_class = 1 / (1 + torch.exp(-A))"
   ]
  },
  {
   "cell_type": "markdown",
   "metadata": {},
   "source": [
    "Recall that `log_prob_item_index = model.forward(batch, return_scope='item_index', return_type='log_prob')` reports the predicted log-probability of the actual label $y_k$, namely $\\log P(y_k | \\theta_{u(k)}, \\alpha_{i(k)})$.\n",
    "Therefore, the relationship between `log_prob_item_index` we computed before and the `prob_positive_class` tensor we just computed is\n",
    "$$\n",
    "\\texttt{log\\_prob\\_item\\_index} = \\log P(y_k | \\theta_{u(k)}, \\alpha_{i(k)}) = \\begin{cases}\n",
    "\\log P(y_k=1 | \\theta_{u(k)}, \\alpha_{i(k)}) &\\text{ if } y_k = 1 \\\\\n",
    "\\log \\left(1 - P(y_k=1 | \\theta_{u(k)}, \\alpha_{i(k)})\\right) &\\text{ if } y_k = 0 \\\\\n",
    "\\end{cases} \n",
    "= \\begin{cases}\n",
    "\\log \\texttt{prob\\_positive\\_class} &\\text{ if } y_k = 1 \\\\\n",
    "\\log \\left(1 - \\texttt{prob\\_positive\\_class}\\right) &\\text{ if } y_k = 0 \\\\\n",
    "\\end{cases}\n",
    "$$\n",
    "\n",
    "Let confirm the relationship now."
   ]
  },
  {
   "cell_type": "code",
   "execution_count": 20,
   "metadata": {},
   "outputs": [
    {
     "data": {
      "text/plain": [
       "tensor(True)"
      ]
     },
     "execution_count": 20,
     "metadata": {},
     "output_type": "execute_result"
    }
   ],
   "source": [
    "y = batch.label\n",
    "log_prob_item_index_from_alternative_method = y * torch.log(prob_positive_class) + (1 - y) * torch.log(1 - prob_positive_class)\n",
    "torch.all(log_prob_item_index == log_prob_item_index_from_alternative_method)"
   ]
  },
  {
   "cell_type": "markdown",
   "metadata": {},
   "source": [
    "Since different items have different latent $\\alpha_\\ell$, the predicted probability of $y_k = 1$ depends on the item chosen.\n",
    "By setting `return_scope='all_items'`, the `forward()` method returns $\\theta_{u(k)}^\\top \\alpha_{\\ell}$ and $\\log P(y_k | \\theta_{u(k)}, \\alpha_{\\ell})$ for all items $\\ell \\in \\{1, 2, \\dots, num\\_items\\}$.\n",
    "\n",
    "Formally, the `utility_all_items` tensors contains:\n",
    "$$\n",
    "\\begin{bmatrix} \\theta_{u(1)}^\\top \\alpha_{1}, \\theta_{u(1)}^\\top \\alpha_{2}, \\dots, \\theta_{u(1)}^\\top \\alpha_{num\\_items} \\\\ \\theta_{u(2)}^\\top \\alpha_{1}, \\theta_{u(2)}^\\top \\alpha_{2}, \\dots, \\theta_{u(2)}^\\top \\alpha_{num\\_items} \\\\ \\vdots \\\\ \\theta_{u(K)}^\\top \\alpha_{1}, \\theta_{u(K)}^\\top \\alpha_{2}, \\dots, \\theta_{u(K)}^\\top \\alpha_{num\\_items} \\end{bmatrix}\n",
    "$$\n",
    "\n",
    "and the `log_prob_all_items` tensors contains:\n",
    "$$\\begin{bmatrix} y_1 \\log\\left(\\sigma\\left(\\theta_{u(1)}^\\top \\alpha_{1}\\right)\\right) + (1-y_1) \\log\\left(1-\\sigma\\left(\\theta_{u(1)}^\\top \\alpha_{1}\\right)\\right), y_1 \\log\\left(\\sigma\\left(\\theta_{u(1)}^\\top \\alpha_{2}\\right)\\right) + (1-y_1) \\log\\left(1-\\sigma\\left(\\theta_{u(1)}^\\top \\alpha_{2}\\right)\\right) , \\dots, y_1 \\log\\left(\\sigma\\left(\\theta_{u(1)}^\\top \\alpha_{num\\_items}\\right)\\right) + (1-y_1) \\log\\left(1-\\sigma\\left(\\theta_{u(1)}^\\top \\alpha_{num\\_items}\\right)\\right) \\\\ y_2 \\log\\left(\\sigma\\left(\\theta_{u(2)}^\\top \\alpha_{1}\\right)\\right) + (1-y_2) \\log\\left(1-\\sigma\\left(\\theta_{u(2)}^\\top \\alpha_{1}\\right)\\right), y_2 \\log\\left(\\sigma\\left(\\theta_{u(2)}^\\top \\alpha_{2}\\right)\\right) + (1-y_2) \\log\\left(1-\\sigma\\left(\\theta_{u(2)}^\\top \\alpha_{2}\\right)\\right) , \\dots, y_2 \\log\\left(\\sigma\\left(\\theta_{u(2)}^\\top \\alpha_{num\\_items}\\right)\\right) + (1-y_2) \\log\\left(1-\\sigma\\left(\\theta_{u(2)}^\\top \\alpha_{num\\_items}\\right)\\right) \\\\ \\vdots \\\\ y_K \\log\\left(\\sigma\\left(\\theta_{u(K)}^\\top \\alpha_{1}\\right)\\right) + (1-y_K) \\log\\left(1-\\sigma\\left(\\theta_{u(K)}^\\top \\alpha_{1}\\right)\\right), y_K \\log\\left(\\sigma\\left(\\theta_{u(K)}^\\top \\alpha_{2}\\right)\\right) + (1-y_K) \\log\\left(1-\\sigma\\left(\\theta_{u(K)}^\\top \\alpha_{2}\\right)\\right) , \\dots, y_K \\log\\left(\\sigma\\left(\\theta_{u(K)}^\\top \\alpha_{num\\_items}\\right)\\right) + (1-y_K) \\log\\left(1-\\sigma\\left(\\theta_{u(K)}^\\top \\alpha_{num\\_items}\\right)\\right) \\end{bmatrix}$$"
   ]
  },
  {
   "cell_type": "code",
   "execution_count": 21,
   "metadata": {},
   "outputs": [
    {
     "name": "stdout",
     "output_type": "stream",
     "text": [
      "model.pred_item=False\n",
      "utility_all_items.shape=torch.Size([1000, 50])\n",
      "Using the new version...\n",
      "log_prob_all_items.shape=torch.Size([1000, 50])\n"
     ]
    }
   ],
   "source": [
    "print(f'{model.pred_item=:}')\n",
    "utility_all_items = model.forward(batch, return_scope='all_items', return_type='utility')\n",
    "print(f'{utility_all_items.shape=:}')\n",
    "log_prob_all_items = model.forward(batch, return_scope='all_items', return_type='log_prob')\n",
    "print(f'{log_prob_all_items.shape=:}')"
   ]
  },
  {
   "cell_type": "markdown",
   "metadata": {},
   "source": [
    "Let check these tensors are consistent with the `return_scope='item_index'` case:"
   ]
  },
  {
   "cell_type": "code",
   "execution_count": 22,
   "metadata": {},
   "outputs": [
    {
     "name": "stdout",
     "output_type": "stream",
     "text": [
      "tensor(True)\n",
      "tensor(True)\n"
     ]
    }
   ],
   "source": [
    "print(torch.all(utility_all_items[torch.arange(len(batch)), batch.item_index] == utility_item_index))\n",
    "print(torch.all(log_prob_all_items[torch.arange(len(batch)), batch.item_index] == log_prob_item_index))"
   ]
  },
  {
   "cell_type": "markdown",
   "metadata": {},
   "source": [
    "If you want the predicted probability for the positive class $y_k = 1$, then you can simply apply sigmoid function $\\sigma()$ to the `utility_all_items` tensor."
   ]
  },
  {
   "cell_type": "markdown",
   "metadata": {},
   "source": [
    "### The `deterministic` Option\n",
    "By default, the `forward()` function has keyword argument `deterministic = True`. In this case, the model uses the means of fitted variational distributions of $\\theta$ and $\\alpha$ to compute utilities and log-probabilities.\n",
    "\n",
    "One can specify `forward(deterministic=False, num_seeds=<XXX>)`, the model will firstly sample `num_seeds` copies of $\\theta$ and $\\alpha$ from their variational distributions. For each copy, the model calculated utility/log-probability as described above.\n",
    "\n",
    "Therefore, with the same `pred_item`, `return_scope`, and `return_type`, the returned tensor has shape `(num_seeds, <the shape described in the table above>)`.\n",
    "\n",
    "For example, for a model initialized with `pred_item=False`,\n",
    "\n",
    "* `forward(batch, return_scope='all_items', return_type='utility', deterministic=True)` returns shape `(len(batch), num_items)` as mentioned above.\n",
    "* However, `forward(batch, return_scope='all_items', return_type='utility', deterministic=False, num_seeds=32)` returns shape `(32, len(batch), num_items)`.\n",
    "\n",
    "Here is an actual example (with `pred_item = False`):"
   ]
  },
  {
   "cell_type": "code",
   "execution_count": 23,
   "metadata": {},
   "outputs": [
    {
     "name": "stdout",
     "output_type": "stream",
     "text": [
      "deterministic.shape=torch.Size([1000])\n",
      "random.shape=torch.Size([128, 1000])\n"
     ]
    },
    {
     "data": {
      "text/plain": [
       "tensor(0.0433, grad_fn=<MeanBackward0>)"
      ]
     },
     "execution_count": 23,
     "metadata": {},
     "output_type": "execute_result"
    }
   ],
   "source": [
    "deterministic = model.forward(batch, return_scope='item_index', return_type='utility', deterministic=True)\n",
    "random = model.forward(batch, return_scope='item_index', return_type='utility', deterministic=False, num_seeds=128)\n",
    "print(f\"{deterministic.shape=:}\")\n",
    "print(f\"{random.shape=:}\")\n",
    "# the mean absolute difference between deterministic estimation and random estimation.\n",
    "torch.mean(torch.abs(deterministic - random.mean(dim=0)))"
   ]
  },
  {
   "cell_type": "code",
   "execution_count": 24,
   "metadata": {},
   "outputs": [
    {
     "name": "stdout",
     "output_type": "stream",
     "text": [
      "deterministic.shape=torch.Size([1000, 50])\n",
      "random.shape=torch.Size([128, 1000, 50])\n"
     ]
    },
    {
     "data": {
      "text/plain": [
       "tensor(0.0443, grad_fn=<MeanBackward0>)"
      ]
     },
     "execution_count": 24,
     "metadata": {},
     "output_type": "execute_result"
    }
   ],
   "source": [
    "deterministic = model.forward(batch, return_scope='all_items', return_type='utility', deterministic=True)\n",
    "random = model.forward(batch, return_scope='all_items', return_type='utility', deterministic=False, num_seeds=128)\n",
    "print(f\"{deterministic.shape=:}\")\n",
    "print(f\"{random.shape=:}\")\n",
    "# the mean absolute difference between deterministic estimation and random estimation.\n",
    "torch.mean(torch.abs(deterministic - random.mean(dim=0)))"
   ]
  },
  {
   "cell_type": "code",
   "execution_count": 25,
   "metadata": {},
   "outputs": [
    {
     "name": "stdout",
     "output_type": "stream",
     "text": [
      "Using the new version...\n",
      "Using the new version...\n",
      "deterministic.shape=torch.Size([1000, 50])\n",
      "random.shape=torch.Size([128, 1000, 50])\n"
     ]
    },
    {
     "data": {
      "text/plain": [
       "tensor(0.0483, grad_fn=<MeanBackward0>)"
      ]
     },
     "execution_count": 25,
     "metadata": {},
     "output_type": "execute_result"
    }
   ],
   "source": [
    "deterministic = model.forward(batch, return_scope='all_items', return_type='log_prob', deterministic=True)\n",
    "random = model.forward(batch, return_scope='all_items', return_type='log_prob', deterministic=False, num_seeds=128)\n",
    "print(f\"{deterministic.shape=:}\")\n",
    "print(f\"{random.shape=:}\")\n",
    "# the mean absolute difference between deterministic estimation and random estimation.\n",
    "torch.mean(torch.abs(deterministic - random.mean(dim=0)))"
   ]
  },
  {
   "cell_type": "code",
   "execution_count": 26,
   "metadata": {},
   "outputs": [
    {
     "name": "stdout",
     "output_type": "stream",
     "text": [
      "deterministic.shape=torch.Size([1000])\n",
      "random.shape=torch.Size([128, 1000])\n"
     ]
    },
    {
     "data": {
      "text/plain": [
       "tensor(0.0482, grad_fn=<MeanBackward0>)"
      ]
     },
     "execution_count": 26,
     "metadata": {},
     "output_type": "execute_result"
    }
   ],
   "source": [
    "deterministic = model.forward(batch, return_scope='item_index', return_type='log_prob', deterministic=True)\n",
    "random = model.forward(batch, return_scope='item_index', return_type='log_prob', deterministic=False, num_seeds=128)\n",
    "print(f\"{deterministic.shape=:}\")\n",
    "print(f\"{random.shape=:}\")\n",
    "# the mean absolute difference between deterministic estimation and random estimation.\n",
    "torch.mean(torch.abs(deterministic - random.mean(dim=0)))"
   ]
  },
  {
   "cell_type": "markdown",
   "metadata": {},
   "source": [
    "## Syntax Sugar: the `predict_proba()` Function\n",
    "The `predict_proba()` Function mimics the method with the same name in scikit-learn library.\n",
    "\n",
    "**Note**: to avoid over-flow or under-flow issues, please use the `forward()` function, which provides log-probabilities whenever possible."
   ]
  },
  {
   "cell_type": "code",
   "execution_count": 27,
   "metadata": {},
   "outputs": [],
   "source": [
    "@torch.no_grad()\n",
    "def predict_proba(self, batch: ChoiceDataset) -> torch.Tensor:\n",
    "    \"\"\"\n",
    "    Draw prediction on a given batch of dataset.\n",
    "\n",
    "    Args:\n",
    "    batch (ChoiceDataset): the dataset to draw inference on.\n",
    "\n",
    "    Returns:\n",
    "    torch.Tensor: the predicted probabilities for each class, the behavior varies by self.pred_item.\n",
    "    (1: pred_item == True) While predicting items, the return tensor has shape (len(batch), num_items), out[i, j] is the predicted probability for choosing item j AMONG ALL ITEMS IN ITS CATEGORY in observation i. Please note that since probabilities are computed from within-category normalization, hence out.sum(dim=0) can be greater than 1 if there are multiple categories.\n",
    "    (2: pred_item == False) While predicting external labels for each observations, out[i, 0] is the predicted probability for label == 0 on the i-th observation, out[i, 1] is the predicted probability for label == 1 on the i-th observation. Generally, out[i, 0] + out[i, 1] = 1.0. However, this could be false if under-flowing/over-flowing issue is encountered.\n",
    "    We highly recommend users to use the forward function to get the log-prob instead.\n",
    "    \"\"\"\n",
    "    pass"
   ]
  },
  {
   "cell_type": "code",
   "execution_count": 28,
   "metadata": {},
   "outputs": [
    {
     "name": "stderr",
     "output_type": "stream",
     "text": [
      "/Users/tianyudu/miniforge3/envs/ml/lib/python3.9/site-packages/torch/nn/functional.py:1909: UserWarning: nn.functional.sigmoid is deprecated. Use torch.sigmoid instead.\n",
      "  warnings.warn(\"nn.functional.sigmoid is deprecated. Use torch.sigmoid instead.\")\n"
     ]
    }
   ],
   "source": [
    "proba = model.predict_proba(batch)"
   ]
  },
  {
   "cell_type": "code",
   "execution_count": 29,
   "metadata": {},
   "outputs": [
    {
     "data": {
      "text/plain": [
       "tensor([[0.4757, 0.5243],\n",
       "        [0.5466, 0.4534],\n",
       "        [0.5449, 0.4551],\n",
       "        ...,\n",
       "        [0.4290, 0.5710],\n",
       "        [0.5680, 0.4320],\n",
       "        [0.5732, 0.4268]])"
      ]
     },
     "execution_count": 29,
     "metadata": {},
     "output_type": "execute_result"
    }
   ],
   "source": [
    "proba"
   ]
  },
  {
   "cell_type": "markdown",
   "metadata": {},
   "source": [
    "Let's verify that each row of `proba` sum to one:"
   ]
  },
  {
   "cell_type": "code",
   "execution_count": 30,
   "metadata": {},
   "outputs": [
    {
     "data": {
      "text/plain": [
       "tensor(True)"
      ]
     },
     "execution_count": 30,
     "metadata": {},
     "output_type": "execute_result"
    }
   ],
   "source": [
    "torch.all(proba.sum(dim=1) == 1.0)"
   ]
  },
  {
   "cell_type": "markdown",
   "metadata": {},
   "source": [
    "And the second column of `proba` should be the `prob_positive_class` we calculated above:"
   ]
  },
  {
   "cell_type": "code",
   "execution_count": 31,
   "metadata": {},
   "outputs": [
    {
     "data": {
      "text/plain": [
       "tensor(True)"
      ]
     },
     "execution_count": 31,
     "metadata": {},
     "output_type": "execute_result"
    }
   ],
   "source": [
    "torch.all(prob_positive_class == proba[:, 1])"
   ]
  }
 ],
 "metadata": {
  "kernelspec": {
   "display_name": "Python 3.9.7 ('ml')",
   "language": "python",
   "name": "python3"
  },
  "language_info": {
   "codemirror_mode": {
    "name": "ipython",
    "version": 3
   },
   "file_extension": ".py",
   "mimetype": "text/x-python",
   "name": "python",
   "nbconvert_exporter": "python",
   "pygments_lexer": "ipython3",
   "version": "3.9.7"
  },
  "orig_nbformat": 4,
  "vscode": {
   "interpreter": {
    "hash": "5859d33511df864b0b7226a715510a0165ef032ed4b83eb4ae2c092f0788759c"
   }
  }
 },
 "nbformat": 4,
 "nbformat_minor": 2
}
