{
 "cells": [
  {
   "cell_type": "markdown",
   "source": [
    "# `ChoiceDataset` Examples\n",
    "This notebook aims to help users understand the functionality of `ChoiceDataset` object.\n",
    "**TODO**: add more detailed descriptions explaining features."
   ],
   "metadata": {}
  },
  {
   "cell_type": "code",
   "execution_count": 20,
   "source": [
    "import numpy as np\n",
    "import torch\n",
    "from choice_dataset import ChoiceDataset"
   ],
   "outputs": [],
   "metadata": {}
  },
  {
   "cell_type": "code",
   "execution_count": 21,
   "source": [
    "def print_dict_shape(d):\n",
    "    for key, val in d.items():\n",
    "        if torch.is_tensor(val):\n",
    "            print(f'dict.{key}.shape={val.shape}')"
   ],
   "outputs": [],
   "metadata": {}
  },
  {
   "cell_type": "markdown",
   "source": [
    "## Create Aritfical Data"
   ],
   "metadata": {}
  },
  {
   "cell_type": "code",
   "execution_count": 22,
   "source": [
    "# Creates some fake input features, feel free to modify it as you want.\n",
    "num_users = 10\n",
    "num_user_features = 128\n",
    "num_items = 4\n",
    "num_item_features = 64\n",
    "num_sessions = 10000"
   ],
   "outputs": [],
   "metadata": {}
  },
  {
   "cell_type": "code",
   "execution_count": 23,
   "source": [
    "# create observables/features/covariates, the number of parameters are\n",
    "# arbitrarily chosen.\n",
    "user_obs = torch.randn(num_users, 128)  # generate 128 features for each user.\n",
    "item_obs = torch.randn(num_items, 64)\n",
    "session_obs = torch.randn(num_sessions, 234)\n",
    "taste_obs = torch.randn(num_users, num_items, 567)\n",
    "price_obs = torch.randn(num_sessions, num_items, 12)"
   ],
   "outputs": [],
   "metadata": {}
  },
  {
   "cell_type": "code",
   "execution_count": 24,
   "source": [
    "label = torch.LongTensor(np.random.choice(num_items, size=num_sessions))\n",
    "\n",
    "user_onehot = torch.zeros(num_sessions, num_users)\n",
    "user_idx = torch.LongTensor(np.random.choice(num_users, size=num_sessions))\n",
    "user_onehot[torch.arange(num_sessions), user_idx] = 1\n",
    "\n",
    "item_availability = torch.ones(num_sessions, num_items).bool()"
   ],
   "outputs": [],
   "metadata": {}
  },
  {
   "cell_type": "code",
   "execution_count": 25,
   "source": [
    "dataset = ChoiceDataset(\n",
    "    # required keywords of __init__\n",
    "    label=label.long(),\n",
    "    user_onehot=user_onehot.long(),\n",
    "    item_availability=item_availability.bool(),\n",
    "    # optional keywords of __init__\n",
    "    user_obs=user_obs,\n",
    "    item_obs=item_obs,\n",
    "    session_obs=session_obs,\n",
    "    taste_obs=taste_obs,\n",
    "    price_obs=price_obs)"
   ],
   "outputs": [],
   "metadata": {}
  },
  {
   "cell_type": "code",
   "execution_count": 26,
   "source": [
    "dataset"
   ],
   "outputs": [
    {
     "output_type": "execute_result",
     "data": {
      "text/plain": [
       "ChoiceDataset(label=[10000], user_onehot=[10000, 10], item_availability=[10000, 4], variable_types=[5], user_obs=[10, 128], item_obs=[4, 64], session_obs=[10000, 234], taste_obs=[10, 4, 567], price_obs=[10000, 4, 12], device=cpu)"
      ]
     },
     "metadata": {},
     "execution_count": 26
    }
   ],
   "metadata": {}
  },
  {
   "cell_type": "code",
   "execution_count": 27,
   "source": [
    "print(f'{dataset.num_users=:}')\n",
    "print(f'{dataset.num_items=:}')\n",
    "print(f'{dataset.num_sessions=:}')\n",
    "print(f'{len(dataset)=:}')"
   ],
   "outputs": [
    {
     "output_type": "stream",
     "name": "stdout",
     "text": [
      "dataset.num_users=10\n",
      "dataset.num_items=4\n",
      "dataset.num_sessions=10000\n",
      "len(dataset)=10000\n"
     ]
    }
   ],
   "metadata": {}
  },
  {
   "cell_type": "code",
   "execution_count": 28,
   "source": [
    "# clone\n",
    "print(dataset.label[:10])\n",
    "dataset_cloned = dataset.clone()\n",
    "dataset_cloned.label = 99 * torch.ones(num_sessions)\n",
    "print(dataset_cloned.label[:10])\n",
    "print(dataset.label[:10])  # does not change the original dataset."
   ],
   "outputs": [
    {
     "output_type": "stream",
     "name": "stdout",
     "text": [
      "tensor([1, 2, 0, 0, 1, 1, 3, 0, 0, 1])\n",
      "tensor([99., 99., 99., 99., 99., 99., 99., 99., 99., 99.])\n",
      "tensor([1, 2, 0, 0, 1, 1, 3, 0, 0, 1])\n"
     ]
    }
   ],
   "metadata": {}
  },
  {
   "cell_type": "code",
   "execution_count": 29,
   "source": [
    "# move to device\n",
    "print(f'{dataset.device=:}')\n",
    "print(f'{dataset.label.device=:}')\n",
    "print(f'{dataset.taste_obs.device=:}')\n",
    "print(f'{dataset.user_onehot.device=:}')\n",
    "\n",
    "dataset = dataset.to('cuda')\n",
    "\n",
    "print(f'{dataset.device=:}')\n",
    "print(f'{dataset.label.device=:}')\n",
    "print(f'{dataset.taste_obs.device=:}')\n",
    "print(f'{dataset.user_onehot.device=:}')"
   ],
   "outputs": [
    {
     "output_type": "stream",
     "name": "stdout",
     "text": [
      "dataset.device=cpu\n",
      "dataset.label.device=cpu\n",
      "dataset.taste_obs.device=cpu\n",
      "dataset.user_onehot.device=cpu\n",
      "dataset.device=cuda:0\n",
      "dataset.label.device=cuda:0\n",
      "dataset.taste_obs.device=cuda:0\n",
      "dataset.user_onehot.device=cuda:0\n"
     ]
    }
   ],
   "metadata": {}
  },
  {
   "cell_type": "code",
   "execution_count": 35,
   "source": [
    "dataset._check_device_consistency()"
   ],
   "outputs": [],
   "metadata": {}
  },
  {
   "cell_type": "code",
   "execution_count": 36,
   "source": [
    "# NOTE: this cell will result errors, this is intentional.\n",
    "dataset.label = dataset.label.to('cpu')\n",
    "dataset._check_device_consistency()"
   ],
   "outputs": [
    {
     "output_type": "error",
     "ename": "Exception",
     "evalue": "(\"Found tensors on different devices: {device(type='cuda', index=0), device(type='cpu')}.\", 'Use dataset.to() method to align devices.')",
     "traceback": [
      "\u001b[0;31m---------------------------------------------------------------------------\u001b[0m",
      "\u001b[0;31mException\u001b[0m                                 Traceback (most recent call last)",
      "\u001b[0;32m<ipython-input-36-c695de1617e2>\u001b[0m in \u001b[0;36m<module>\u001b[0;34m\u001b[0m\n\u001b[1;32m      1\u001b[0m \u001b[0mdataset\u001b[0m\u001b[0;34m.\u001b[0m\u001b[0mlabel\u001b[0m \u001b[0;34m=\u001b[0m \u001b[0mdataset\u001b[0m\u001b[0;34m.\u001b[0m\u001b[0mlabel\u001b[0m\u001b[0;34m.\u001b[0m\u001b[0mto\u001b[0m\u001b[0;34m(\u001b[0m\u001b[0;34m'cpu'\u001b[0m\u001b[0;34m)\u001b[0m\u001b[0;34m\u001b[0m\u001b[0;34m\u001b[0m\u001b[0m\n\u001b[0;32m----> 2\u001b[0;31m \u001b[0mdataset\u001b[0m\u001b[0;34m.\u001b[0m\u001b[0m_check_device_consistency\u001b[0m\u001b[0;34m(\u001b[0m\u001b[0;34m)\u001b[0m\u001b[0;34m\u001b[0m\u001b[0;34m\u001b[0m\u001b[0m\n\u001b[0m",
      "\u001b[0;32m~/Development/deepchoice/src/data/choice_dataset.py\u001b[0m in \u001b[0;36m_check_device_consistency\u001b[0;34m(self)\u001b[0m\n\u001b[1;32m    120\u001b[0m                 \u001b[0mdevices\u001b[0m\u001b[0;34m.\u001b[0m\u001b[0mappend\u001b[0m\u001b[0;34m(\u001b[0m\u001b[0mval\u001b[0m\u001b[0;34m.\u001b[0m\u001b[0mdevice\u001b[0m\u001b[0;34m)\u001b[0m\u001b[0;34m\u001b[0m\u001b[0;34m\u001b[0m\u001b[0m\n\u001b[1;32m    121\u001b[0m         \u001b[0;32mif\u001b[0m \u001b[0mlen\u001b[0m\u001b[0;34m(\u001b[0m\u001b[0mset\u001b[0m\u001b[0;34m(\u001b[0m\u001b[0mdevices\u001b[0m\u001b[0;34m)\u001b[0m\u001b[0;34m)\u001b[0m \u001b[0;34m>\u001b[0m \u001b[0;36m1\u001b[0m\u001b[0;34m:\u001b[0m\u001b[0;34m\u001b[0m\u001b[0;34m\u001b[0m\u001b[0m\n\u001b[0;32m--> 122\u001b[0;31m             raise Exception(f'Found tensors on different devices: {set(devices)}.',\n\u001b[0m\u001b[1;32m    123\u001b[0m                             'Use dataset.to() method to align devices.')\n\u001b[1;32m    124\u001b[0m \u001b[0;34m\u001b[0m\u001b[0m\n",
      "\u001b[0;31mException\u001b[0m: (\"Found tensors on different devices: {device(type='cuda', index=0), device(type='cpu')}.\", 'Use dataset.to() method to align devices.')"
     ]
    }
   ],
   "metadata": {}
  },
  {
   "cell_type": "code",
   "execution_count": 30,
   "source": [
    "# create dictionary inputs for model.forward()\n",
    "print_dict_shape(dataset.x_dict)"
   ],
   "outputs": [
    {
     "output_type": "stream",
     "name": "stdout",
     "text": [
      "dict.user_obs.shape=torch.Size([10000, 4, 128])\n",
      "dict.item_obs.shape=torch.Size([10000, 4, 64])\n",
      "dict.session_obs.shape=torch.Size([10000, 4, 234])\n",
      "dict.taste_obs.shape=torch.Size([10000, 4, 567])\n",
      "dict.price_obs.shape=torch.Size([10000, 4, 12])\n"
     ]
    }
   ],
   "metadata": {}
  },
  {
   "cell_type": "code",
   "execution_count": 34,
   "source": [
    "# __getitem__ to get batch.\n",
    "# pick 5 random sessions as the mini-batch.\n",
    "indices = torch.LongTensor(np.random.choice(len(dataset), size=5, replace=False))\n",
    "subset = dataset[indices]\n",
    "print(subset)\n",
    "print_dict_shape(subset.x_dict)\n",
    "\n",
    "assert torch.all(dataset.x_dict['price_obs'][indices, :, :] == subset.x_dict['price_obs'])"
   ],
   "outputs": [
    {
     "output_type": "stream",
     "name": "stdout",
     "text": [
      "ChoiceDataset(label=[5], user_onehot=[5, 10], item_availability=[5, 4], variable_types=[5], user_obs=[10, 128], item_obs=[4, 64], session_obs=[5, 234], taste_obs=[10, 4, 567], price_obs=[5, 4, 12], device=cuda:0)\n",
      "dict.user_obs.shape=torch.Size([5, 4, 128])\n",
      "dict.item_obs.shape=torch.Size([5, 4, 64])\n",
      "dict.session_obs.shape=torch.Size([5, 4, 234])\n",
      "dict.taste_obs.shape=torch.Size([5, 4, 567])\n",
      "dict.price_obs.shape=torch.Size([5, 4, 12])\n"
     ]
    }
   ],
   "metadata": {}
  }
 ],
 "metadata": {
  "orig_nbformat": 4,
  "language_info": {
   "name": "python",
   "version": "3.8.10",
   "mimetype": "text/x-python",
   "codemirror_mode": {
    "name": "ipython",
    "version": 3
   },
   "pygments_lexer": "ipython3",
   "nbconvert_exporter": "python",
   "file_extension": ".py"
  },
  "kernelspec": {
   "name": "python3",
   "display_name": "Python 3.8.10 64-bit ('ml': conda)"
  },
  "interpreter": {
   "hash": "c7dc80b2c4d9dbaf52e273e24444ebf2c26f0fdc466c7e783c99ad3a1ce41bbd"
  }
 },
 "nbformat": 4,
 "nbformat_minor": 2
}