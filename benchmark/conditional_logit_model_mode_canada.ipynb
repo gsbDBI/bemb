{
 "cells": [
  {
   "cell_type": "markdown",
   "source": [
    "# Example of the Conditional Logit Model on ModeCanada Dataset\n",
    "This tutorial is modified from the [Random utility model and the multinomial logit model](https://cran.r-project.org/web/packages/mlogit/vignettes/c3.rum.html) in th documentation of `mlogit` package in R."
   ],
   "metadata": {}
  },
  {
   "cell_type": "code",
   "execution_count": 1,
   "source": [
    "import argparse\n",
    "\n",
    "import pandas as pd\n",
    "import torch\n",
    "import torch.nn.functional as F\n",
    "\n",
    "from deepchoice.data import ChoiceDataset, utils\n",
    "from deepchoice.model.conditional_logit_model_v2 import ConditionalLogitModel\n",
    "from deepchoice.utils.std import parameter_std"
   ],
   "outputs": [],
   "metadata": {}
  },
  {
   "cell_type": "code",
   "execution_count": 2,
   "source": [
    "if torch.cuda.is_available():\n",
    "    print(f'CUDA device used: {torch.cuda.get_device_name()}')"
   ],
   "outputs": [
    {
     "output_type": "stream",
     "name": "stdout",
     "text": [
      "CUDA device used: NVIDIA GeForce RTX 3090\n"
     ]
    }
   ],
   "metadata": {}
  },
  {
   "cell_type": "code",
   "execution_count": 3,
   "source": [
    "args = argparse.Namespace(data_path='./',\n",
    "                          batch_size=-1,  # full-batch.\n",
    "                          shuffle=False,\n",
    "                          num_epochs=1000,\n",
    "                          device='cuda' if torch.cuda.is_available() else 'cpu')"
   ],
   "outputs": [],
   "metadata": {}
  },
  {
   "cell_type": "markdown",
   "source": [
    "## Load Dataset"
   ],
   "metadata": {}
  },
  {
   "cell_type": "code",
   "execution_count": 4,
   "source": [
    "df = pd.read_csv('./ModeCanada.csv', index_col=0)\n",
    "df = df.query('noalt == 4').reset_index(drop=True)\n",
    "df.sort_values(by='case', inplace=True)\n",
    "df.head()"
   ],
   "outputs": [
    {
     "output_type": "execute_result",
     "data": {
      "text/plain": [
       "   case    alt  choice  dist    cost  ivt  ovt  freq  income  urban  noalt\n",
       "0   109  train       0   377   58.25  215   74     4      45      0      4\n",
       "1   109    air       1   377  142.80   56   85     9      45      0      4\n",
       "2   109    bus       0   377   27.52  301   63     8      45      0      4\n",
       "3   109    car       0   377   71.63  262    0     0      45      0      4\n",
       "4   110  train       0   377   58.25  215   74     4      70      0      4"
      ],
      "text/html": [
       "<div>\n",
       "<style scoped>\n",
       "    .dataframe tbody tr th:only-of-type {\n",
       "        vertical-align: middle;\n",
       "    }\n",
       "\n",
       "    .dataframe tbody tr th {\n",
       "        vertical-align: top;\n",
       "    }\n",
       "\n",
       "    .dataframe thead th {\n",
       "        text-align: right;\n",
       "    }\n",
       "</style>\n",
       "<table border=\"1\" class=\"dataframe\">\n",
       "  <thead>\n",
       "    <tr style=\"text-align: right;\">\n",
       "      <th></th>\n",
       "      <th>case</th>\n",
       "      <th>alt</th>\n",
       "      <th>choice</th>\n",
       "      <th>dist</th>\n",
       "      <th>cost</th>\n",
       "      <th>ivt</th>\n",
       "      <th>ovt</th>\n",
       "      <th>freq</th>\n",
       "      <th>income</th>\n",
       "      <th>urban</th>\n",
       "      <th>noalt</th>\n",
       "    </tr>\n",
       "  </thead>\n",
       "  <tbody>\n",
       "    <tr>\n",
       "      <th>0</th>\n",
       "      <td>109</td>\n",
       "      <td>train</td>\n",
       "      <td>0</td>\n",
       "      <td>377</td>\n",
       "      <td>58.25</td>\n",
       "      <td>215</td>\n",
       "      <td>74</td>\n",
       "      <td>4</td>\n",
       "      <td>45</td>\n",
       "      <td>0</td>\n",
       "      <td>4</td>\n",
       "    </tr>\n",
       "    <tr>\n",
       "      <th>1</th>\n",
       "      <td>109</td>\n",
       "      <td>air</td>\n",
       "      <td>1</td>\n",
       "      <td>377</td>\n",
       "      <td>142.80</td>\n",
       "      <td>56</td>\n",
       "      <td>85</td>\n",
       "      <td>9</td>\n",
       "      <td>45</td>\n",
       "      <td>0</td>\n",
       "      <td>4</td>\n",
       "    </tr>\n",
       "    <tr>\n",
       "      <th>2</th>\n",
       "      <td>109</td>\n",
       "      <td>bus</td>\n",
       "      <td>0</td>\n",
       "      <td>377</td>\n",
       "      <td>27.52</td>\n",
       "      <td>301</td>\n",
       "      <td>63</td>\n",
       "      <td>8</td>\n",
       "      <td>45</td>\n",
       "      <td>0</td>\n",
       "      <td>4</td>\n",
       "    </tr>\n",
       "    <tr>\n",
       "      <th>3</th>\n",
       "      <td>109</td>\n",
       "      <td>car</td>\n",
       "      <td>0</td>\n",
       "      <td>377</td>\n",
       "      <td>71.63</td>\n",
       "      <td>262</td>\n",
       "      <td>0</td>\n",
       "      <td>0</td>\n",
       "      <td>45</td>\n",
       "      <td>0</td>\n",
       "      <td>4</td>\n",
       "    </tr>\n",
       "    <tr>\n",
       "      <th>4</th>\n",
       "      <td>110</td>\n",
       "      <td>train</td>\n",
       "      <td>0</td>\n",
       "      <td>377</td>\n",
       "      <td>58.25</td>\n",
       "      <td>215</td>\n",
       "      <td>74</td>\n",
       "      <td>4</td>\n",
       "      <td>70</td>\n",
       "      <td>0</td>\n",
       "      <td>4</td>\n",
       "    </tr>\n",
       "  </tbody>\n",
       "</table>\n",
       "</div>"
      ]
     },
     "metadata": {},
     "execution_count": 4
    }
   ],
   "metadata": {}
  },
  {
   "cell_type": "code",
   "execution_count": 5,
   "source": [
    "label = df[df['choice'] == 1].sort_values(by='case')['alt'].reset_index(drop=True)"
   ],
   "outputs": [],
   "metadata": {}
  },
  {
   "cell_type": "code",
   "execution_count": 6,
   "source": [
    "item_names = ['air', 'bus', 'car', 'train']\n",
    "num_items = 4\n",
    "encoder = dict(zip(item_names, range(num_items)))\n",
    "label = label.map(lambda x: encoder[x])\n",
    "label = torch.LongTensor(label)"
   ],
   "outputs": [],
   "metadata": {}
  },
  {
   "cell_type": "code",
   "execution_count": 7,
   "source": [
    "price_cost_freq_ovt = utils.pivot3d(df, dim0='case', dim1='alt',\n",
    "                                    values=['cost', 'freq', 'ovt'])\n",
    "# session_income = torch.Tensor(df[['income']].values).view(-1, 1)\n",
    "session_income = df.groupby('case')['income'].first()\n",
    "session_income = torch.Tensor(session_income.values).view(-1, 1)\n",
    "price_ivt = utils.pivot3d(df, dim0='case', dim1='alt', values='ivt')"
   ],
   "outputs": [],
   "metadata": {}
  },
  {
   "cell_type": "code",
   "execution_count": 8,
   "source": [
    "dataset= ChoiceDataset(label=label,\n",
    "                       price_cost_freq_ovt=price_cost_freq_ovt,\n",
    "                       session_income=session_income,\n",
    "                       price_ivt=price_ivt\n",
    "                       ).to(args.device)\n",
    "data_loader = utils.create_data_loader(dataset, args)"
   ],
   "outputs": [],
   "metadata": {}
  },
  {
   "cell_type": "code",
   "execution_count": 9,
   "source": [
    "dataset"
   ],
   "outputs": [
    {
     "output_type": "execute_result",
     "data": {
      "text/plain": [
       "ChoiceDataset(label=[2779], user_onehot=[], item_availability=[], variable_types=[5], price_cost_freq_ovt=[2779, 4, 3], session_income=[2779, 1], price_ivt=[2779, 4, 1], device=cuda:0)"
      ]
     },
     "metadata": {},
     "execution_count": 9
    }
   ],
   "metadata": {}
  },
  {
   "cell_type": "markdown",
   "source": [
    "## Create the Model"
   ],
   "metadata": {}
  },
  {
   "cell_type": "code",
   "execution_count": 10,
   "source": [
    "model = ConditionalLogitModel(coef_variation_dict={'price_cost_freq_ovt': 'constant',\n",
    "                                                   'session_income': 'item',\n",
    "                                                   'price_ivt': 'item-full',\n",
    "                                                   'intercept': 'item'},\n",
    "                              num_param_dict={'price_cost_freq_ovt': 3,\n",
    "                                              'session_income': 1,\n",
    "                                              'price_ivt': 1,\n",
    "                                              'intercept': 1},\n",
    "                              num_items=4)\n",
    "\n",
    "model = model.to(args.device)"
   ],
   "outputs": [],
   "metadata": {}
  },
  {
   "cell_type": "markdown",
   "source": [
    "## Train the Model"
   ],
   "metadata": {}
  },
  {
   "cell_type": "code",
   "execution_count": 11,
   "source": [
    "model(dataset)"
   ],
   "outputs": [
    {
     "output_type": "execute_result",
     "data": {
      "text/plain": [
       "tensor([[ 99.7634,  43.7165,  29.1725,  55.1229],\n",
       "        [ 99.7634,  43.7165,  29.1725,  55.1229],\n",
       "        [ 99.7634,  43.7165,  29.1725,  55.1229],\n",
       "        ...,\n",
       "        [131.4729,  87.8876,  26.4642,  75.5427],\n",
       "        [131.4729,  87.8876,  26.4642,  75.5427],\n",
       "        [124.3456,  91.4512,  30.0237,  79.3099]], device='cuda:0',\n",
       "       grad_fn=<AddBackward0>)"
      ]
     },
     "metadata": {},
     "execution_count": 11
    }
   ],
   "metadata": {}
  },
  {
   "cell_type": "code",
   "execution_count": 12,
   "source": [
    "optimizer = torch.optim.Adam(model.parameters(), lr=0.01)\n",
    "for e in range(args.num_epochs):\n",
    "    ll = 0.0\n",
    "    for batch in data_loader:\n",
    "        y_pred = model(batch)\n",
    "        loss = F.cross_entropy(y_pred, batch.label, reduction='mean')\n",
    "        ll -= loss.detach().item() * len(batch)\n",
    "        optimizer.zero_grad()\n",
    "        loss.backward()\n",
    "        optimizer.step()\n",
    "    if e % (args.num_epochs // 10) == 0:\n",
    "        print(f'{e=:}: {ll=:}')"
   ],
   "outputs": [
    {
     "output_type": "stream",
     "name": "stdout",
     "text": [
      "e=0: ll=-158651.8913040161\n",
      "e=100: ll=-7824.26925778389\n",
      "e=200: ll=-4123.322327136993\n",
      "e=300: ll=-1949.304676771164\n",
      "e=400: ll=-1906.0244250893593\n",
      "e=500: ll=-1891.5400865674019\n",
      "e=600: ll=-1885.0065308213234\n",
      "e=700: ll=-1881.8147884607315\n",
      "e=800: ll=-1880.1055358052254\n",
      "e=900: ll=-1879.125933110714\n"
     ]
    }
   ],
   "metadata": {}
  },
  {
   "cell_type": "markdown",
   "source": [
    "## Parameter Estimation"
   ],
   "metadata": {}
  },
  {
   "cell_type": "markdown",
   "source": [
    "### R Output\n",
    "```r\n",
    "install.packages(\"mlogit\")\n",
    "library(\"mlogit\")\n",
    "data(\"ModeCanada\", package = \"mlogit\")\n",
    "MC <- dfidx(ModeCanada, subset = noalt == 4)\n",
    "ml.MC1 <- mlogit(choice ~ cost + freq + ovt | income | ivt, MC, reflevel='air')\n",
    "\n",
    "summary(ml.MC1)\n",
    "```\n",
    "```\n",
    "Call:\n",
    "mlogit(formula = choice ~ cost + freq + ovt | income | ivt, data = MC, \n",
    "    reflevel = \"air\", method = \"nr\")\n",
    "\n",
    "Frequencies of alternatives:choice\n",
    "      air     train       bus       car \n",
    "0.3738755 0.1666067 0.0035984 0.4559194 \n",
    "\n",
    "nr method\n",
    "9 iterations, 0h:0m:0s \n",
    "g'(-H)^-1g = 0.00014 \n",
    "successive function values within tolerance limits \n",
    "\n",
    "Coefficients :\n",
    "                    Estimate Std. Error  z-value  Pr(>|z|)    \n",
    "(Intercept):train  3.2741952  0.6244152   5.2436 1.575e-07 ***\n",
    "(Intercept):bus    0.6983381  1.2802466   0.5455 0.5854292    \n",
    "(Intercept):car    1.8441129  0.7085089   2.6028 0.0092464 ** \n",
    "cost              -0.0333389  0.0070955  -4.6986 2.620e-06 ***\n",
    "freq               0.0925297  0.0050976  18.1517 < 2.2e-16 ***\n",
    "ovt               -0.0430036  0.0032247 -13.3356 < 2.2e-16 ***\n",
    "income:train      -0.0381466  0.0040831  -9.3426 < 2.2e-16 ***\n",
    "income:bus        -0.0890867  0.0183471  -4.8556 1.200e-06 ***\n",
    "income:car        -0.0279930  0.0038726  -7.2286 4.881e-13 ***\n",
    "ivt:air            0.0595097  0.0100727   5.9080 3.463e-09 ***\n",
    "ivt:train         -0.0014504  0.0011875  -1.2214 0.2219430    \n",
    "ivt:bus           -0.0067835  0.0044334  -1.5301 0.1259938    \n",
    "ivt:car           -0.0064603  0.0018985  -3.4029 0.0006668 ***\n",
    "---\n",
    "Signif. codes:  0 ‘***’ 0.001 ‘**’ 0.01 ‘*’ 0.05 ‘.’ 0.1 ‘ ’ 1\n",
    "\n",
    "Log-Likelihood: -1874.3\n",
    "McFadden R^2:  0.35443 \n",
    "Likelihood ratio test : chisq = 2058.1 (p.value = < 2.22e-16)\n",
    "```"
   ],
   "metadata": {}
  },
  {
   "cell_type": "code",
   "execution_count": 13,
   "source": [
    "for k, v in model.named_parameters():\n",
    "    print(f'{k} = {v.detach().cpu()}')"
   ],
   "outputs": [
    {
     "output_type": "stream",
     "name": "stdout",
     "text": [
      "coef_dict.price_cost_freq_ovt.coef = tensor([-0.0478,  0.0954, -0.0412])\n",
      "coef_dict.session_income.coef = tensor([[-0.0867],\n",
      "        [-0.0244],\n",
      "        [-0.0331]])\n",
      "coef_dict.price_ivt.coef = tensor([[ 0.0579],\n",
      "        [-0.0079],\n",
      "        [-0.0043],\n",
      "        [-0.0012]])\n",
      "coef_dict.intercept.coef = tensor([[-1.0632],\n",
      "        [ 0.0199],\n",
      "        [ 1.4921]])\n"
     ]
    }
   ],
   "metadata": {}
  },
  {
   "cell_type": "markdown",
   "source": [
    "## Standard Error Estimation"
   ],
   "metadata": {}
  },
  {
   "cell_type": "code",
   "execution_count": 14,
   "source": [
    "batch = dataset[torch.Tensor(range(len(dataset))).long()]\n",
    "def nll_loss(model):\n",
    "    y_pred = model(batch)\n",
    "    return F.cross_entropy(y_pred, batch.label, reduction='sum')\n",
    "std = parameter_std(model, nll_loss)\n",
    "print(std)"
   ],
   "outputs": [
    {
     "output_type": "stream",
     "name": "stdout",
     "text": [
      "{'coef_dict.price_cost_freq_ovt.coef': tensor([0.0071, 0.0051, 0.0032]), 'coef_dict.session_income.coef': tensor([[0.0183],\n",
      "        [0.0038],\n",
      "        [0.0040]]), 'coef_dict.price_ivt.coef': tensor([[0.0101],\n",
      "        [0.0045],\n",
      "        [0.0019],\n",
      "        [0.0012]]), 'coef_dict.intercept.coef': tensor([[1.2680],\n",
      "        [0.6912],\n",
      "        [0.6019]])}\n"
     ]
    }
   ],
   "metadata": {}
  },
  {
   "cell_type": "code",
   "execution_count": null,
   "source": [],
   "outputs": [],
   "metadata": {}
  }
 ],
 "metadata": {
  "orig_nbformat": 4,
  "language_info": {
   "name": "python",
   "version": "3.8.10",
   "mimetype": "text/x-python",
   "codemirror_mode": {
    "name": "ipython",
    "version": 3
   },
   "pygments_lexer": "ipython3",
   "nbconvert_exporter": "python",
   "file_extension": ".py"
  },
  "kernelspec": {
   "name": "python3",
   "display_name": "Python 3.8.10 64-bit ('ml': conda)"
  },
  "interpreter": {
   "hash": "c7dc80b2c4d9dbaf52e273e24444ebf2c26f0fdc466c7e783c99ad3a1ce41bbd"
  }
 },
 "nbformat": 4,
 "nbformat_minor": 2
}